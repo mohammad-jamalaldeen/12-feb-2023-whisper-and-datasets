{
  "cells": [
    {
      "cell_type": "markdown",
      "metadata": {
        "id": "view-in-github",
        "colab_type": "text"
      },
      "source": [
        "<a href=\"https://colab.research.google.com/github/mohammad-jamalaldeen/12-feb-2023-whisper-and-datasets/blob/main/12_feb_2023_Whisper_and_Datasets.ipynb\" target=\"_parent\"><img src=\"https://colab.research.google.com/assets/colab-badge.svg\" alt=\"Open In Colab\"/></a>"
      ]
    },
    {
      "cell_type": "markdown",
      "source": [
        "Settings:\n",
        "1. Runtime: TPU.\n",
        "2. Keep connecting by the JavaScript code.\n",
        "3. Mounting checkpoints to Google Drive."
      ],
      "metadata": {
        "id": "b8_seNBWhfZV"
      },
      "id": "b8_seNBWhfZV"
    },
    {
      "cell_type": "code",
      "source": [
        "# function ConnectButton(){\n",
        "#     console.log(\"Connect pushed\");\n",
        "#     document.querySelector(\"#top-toolbar > colab-connect-button\").shadowRoot.querySelector(\"#connect\").click()\n",
        "# }\n",
        "# setInterval(ConnectButton,60000);"
      ],
      "metadata": {
        "id": "TS6NY_gDhrVE"
      },
      "id": "TS6NY_gDhrVE",
      "execution_count": null,
      "outputs": []
    },
    {
      "cell_type": "code",
      "source": [
        "from google.colab import drive\n",
        "drive.mount('/content/gdrive')"
      ],
      "metadata": {
        "colab": {
          "base_uri": "https://localhost:8080/"
        },
        "id": "DheJsxqPoIPb",
        "outputId": "6ff124c6-3f6d-4ad7-c191-553e416b88c3"
      },
      "id": "DheJsxqPoIPb",
      "execution_count": null,
      "outputs": [
        {
          "output_type": "stream",
          "name": "stdout",
          "text": [
            "Drive already mounted at /content/gdrive; to attempt to forcibly remount, call drive.mount(\"/content/gdrive\", force_remount=True).\n"
          ]
        }
      ]
    },
    {
      "cell_type": "markdown",
      "id": "9cd52dc1-ade1-44bb-a2d7-2ed98f110fed",
      "metadata": {
        "id": "9cd52dc1-ade1-44bb-a2d7-2ed98f110fed"
      },
      "source": [
        "For Unix, update the package `ffmpeg` to version 4:"
      ]
    },
    {
      "cell_type": "code",
      "execution_count": null,
      "id": "69ee227d-60c5-44bf-b04d-c2092f997454",
      "metadata": {
        "id": "69ee227d-60c5-44bf-b04d-c2092f997454"
      },
      "outputs": [],
      "source": [
        "# !add-apt-repository -y ppa:jonathonf/ffmpeg-4\n",
        "# !apt update\n",
        "# !apt install -y ffmpeg"
      ]
    },
    {
      "cell_type": "markdown",
      "id": "1d85d613-1c7e-46ac-9134-660bbe7ebc9d",
      "metadata": {
        "id": "1d85d613-1c7e-46ac-9134-660bbe7ebc9d"
      },
      "source": [
        "We'll employ several popular Python packages to fine-tune Whisper model.\n",
        "We'll use `datasets` to download and prepare our training data and\n",
        "`transformers` to load and train specific Whisper model. We'll also use\n",
        "the `soundfile` package to pre-process audio files, `evaluate` and `jiwer` to\n",
        "assess the performance of the model. Finally, we can use `gradio` to build a demo of the fine-tuned model."
      ]
    },
    {
      "cell_type": "code",
      "execution_count": null,
      "id": "e68ea9f8-9b61-414e-8885-3033b67c2850",
      "metadata": {
        "id": "e68ea9f8-9b61-414e-8885-3033b67c2850",
        "colab": {
          "base_uri": "https://localhost:8080/"
        },
        "outputId": "2615c27b-7588-4e08-975c-fd5f159d6c42"
      },
      "outputs": [
        {
          "output_type": "stream",
          "name": "stdout",
          "text": [
            "Looking in indexes: https://pypi.org/simple, https://us-python.pkg.dev/colab-wheels/public/simple/\n",
            "Collecting git+https://github.com/huggingface/transformers\n",
            "  Cloning https://github.com/huggingface/transformers to /tmp/pip-req-build-z6qd27ef\n",
            "  Running command git clone --filter=blob:none --quiet https://github.com/huggingface/transformers /tmp/pip-req-build-z6qd27ef\n",
            "  Resolved https://github.com/huggingface/transformers to commit c836f77266be9ace47bff472f63caf71c0d11333\n",
            "  Installing build dependencies ... \u001b[?25l\u001b[?25hdone\n",
            "  Getting requirements to build wheel ... \u001b[?25l\u001b[?25hdone\n",
            "  Preparing metadata (pyproject.toml) ... \u001b[?25l\u001b[?25hdone\n",
            "Collecting tokenizers!=0.11.3,<0.14,>=0.11.1\n",
            "  Downloading tokenizers-0.13.2-cp38-cp38-manylinux_2_17_x86_64.manylinux2014_x86_64.whl (7.6 MB)\n",
            "\u001b[2K     \u001b[90m━━━━━━━━━━━━━━━━━━━━━━━━━━━━━━━━━━━━━━━━\u001b[0m \u001b[32m7.6/7.6 MB\u001b[0m \u001b[31m55.5 MB/s\u001b[0m eta \u001b[36m0:00:00\u001b[0m\n",
            "\u001b[?25hRequirement already satisfied: packaging>=20.0 in /usr/local/lib/python3.8/dist-packages (from transformers==4.27.0.dev0) (23.0)\n",
            "Requirement already satisfied: pyyaml>=5.1 in /usr/local/lib/python3.8/dist-packages (from transformers==4.27.0.dev0) (6.0)\n",
            "Requirement already satisfied: numpy>=1.17 in /usr/local/lib/python3.8/dist-packages (from transformers==4.27.0.dev0) (1.21.6)\n",
            "Requirement already satisfied: huggingface-hub<1.0,>=0.11.0 in /usr/local/lib/python3.8/dist-packages (from transformers==4.27.0.dev0) (0.12.0)\n",
            "Requirement already satisfied: requests in /usr/local/lib/python3.8/dist-packages (from transformers==4.27.0.dev0) (2.25.1)\n",
            "Requirement already satisfied: filelock in /usr/local/lib/python3.8/dist-packages (from transformers==4.27.0.dev0) (3.9.0)\n",
            "Requirement already satisfied: tqdm>=4.27 in /usr/local/lib/python3.8/dist-packages (from transformers==4.27.0.dev0) (4.64.1)\n",
            "Requirement already satisfied: regex!=2019.12.17 in /usr/local/lib/python3.8/dist-packages (from transformers==4.27.0.dev0) (2022.6.2)\n",
            "Requirement already satisfied: typing-extensions>=3.7.4.3 in /usr/local/lib/python3.8/dist-packages (from huggingface-hub<1.0,>=0.11.0->transformers==4.27.0.dev0) (4.4.0)\n",
            "Requirement already satisfied: certifi>=2017.4.17 in /usr/local/lib/python3.8/dist-packages (from requests->transformers==4.27.0.dev0) (2022.12.7)\n",
            "Requirement already satisfied: chardet<5,>=3.0.2 in /usr/local/lib/python3.8/dist-packages (from requests->transformers==4.27.0.dev0) (4.0.0)\n",
            "Requirement already satisfied: urllib3<1.27,>=1.21.1 in /usr/local/lib/python3.8/dist-packages (from requests->transformers==4.27.0.dev0) (1.26.14)\n",
            "Requirement already satisfied: idna<3,>=2.5 in /usr/local/lib/python3.8/dist-packages (from requests->transformers==4.27.0.dev0) (2.10)\n",
            "Building wheels for collected packages: transformers\n",
            "  Building wheel for transformers (pyproject.toml) ... \u001b[?25l\u001b[?25hdone\n",
            "  Created wheel for transformers: filename=transformers-4.27.0.dev0-py3-none-any.whl size=6464552 sha256=5bd5f2326c615fe06383ed061d33f8d943f5847f1e2408661faf436a620bc199\n",
            "  Stored in directory: /tmp/pip-ephem-wheel-cache-l0j3347t/wheels/42/68/45/c63edff61c292f2dfd4df4ef6522dcbecc603e7af82813c1d7\n",
            "Successfully built transformers\n",
            "Installing collected packages: tokenizers, transformers\n",
            "Successfully installed tokenizers-0.13.2 transformers-4.27.0.dev0\n",
            "Looking in indexes: https://pypi.org/simple, https://us-python.pkg.dev/colab-wheels/public/simple/\n",
            "Requirement already satisfied: librosa in /usr/local/lib/python3.8/dist-packages (0.8.1)\n",
            "Requirement already satisfied: resampy>=0.2.2 in /usr/local/lib/python3.8/dist-packages (from librosa) (0.4.2)\n",
            "Requirement already satisfied: packaging>=20.0 in /usr/local/lib/python3.8/dist-packages (from librosa) (23.0)\n",
            "Requirement already satisfied: numpy>=1.15.0 in /usr/local/lib/python3.8/dist-packages (from librosa) (1.21.6)\n",
            "Requirement already satisfied: numba>=0.43.0 in /usr/local/lib/python3.8/dist-packages (from librosa) (0.56.4)\n",
            "Requirement already satisfied: pooch>=1.0 in /usr/local/lib/python3.8/dist-packages (from librosa) (1.6.0)\n",
            "Requirement already satisfied: audioread>=2.0.0 in /usr/local/lib/python3.8/dist-packages (from librosa) (3.0.0)\n",
            "Requirement already satisfied: scikit-learn!=0.19.0,>=0.14.0 in /usr/local/lib/python3.8/dist-packages (from librosa) (1.0.2)\n",
            "Requirement already satisfied: decorator>=3.0.0 in /usr/local/lib/python3.8/dist-packages (from librosa) (4.4.2)\n",
            "Requirement already satisfied: joblib>=0.14 in /usr/local/lib/python3.8/dist-packages (from librosa) (1.2.0)\n",
            "Requirement already satisfied: scipy>=1.0.0 in /usr/local/lib/python3.8/dist-packages (from librosa) (1.7.3)\n",
            "Requirement already satisfied: soundfile>=0.10.2 in /usr/local/lib/python3.8/dist-packages (from librosa) (0.11.0)\n",
            "Requirement already satisfied: setuptools in /usr/local/lib/python3.8/dist-packages (from numba>=0.43.0->librosa) (57.4.0)\n",
            "Requirement already satisfied: importlib-metadata in /usr/local/lib/python3.8/dist-packages (from numba>=0.43.0->librosa) (6.0.0)\n",
            "Requirement already satisfied: llvmlite<0.40,>=0.39.0dev0 in /usr/local/lib/python3.8/dist-packages (from numba>=0.43.0->librosa) (0.39.1)\n",
            "Requirement already satisfied: appdirs>=1.3.0 in /usr/local/lib/python3.8/dist-packages (from pooch>=1.0->librosa) (1.4.4)\n",
            "Requirement already satisfied: requests>=2.19.0 in /usr/local/lib/python3.8/dist-packages (from pooch>=1.0->librosa) (2.25.1)\n",
            "Requirement already satisfied: threadpoolctl>=2.0.0 in /usr/local/lib/python3.8/dist-packages (from scikit-learn!=0.19.0,>=0.14.0->librosa) (3.1.0)\n",
            "Requirement already satisfied: cffi>=1.0 in /usr/local/lib/python3.8/dist-packages (from soundfile>=0.10.2->librosa) (1.15.1)\n",
            "Requirement already satisfied: pycparser in /usr/local/lib/python3.8/dist-packages (from cffi>=1.0->soundfile>=0.10.2->librosa) (2.21)\n",
            "Requirement already satisfied: urllib3<1.27,>=1.21.1 in /usr/local/lib/python3.8/dist-packages (from requests>=2.19.0->pooch>=1.0->librosa) (1.26.14)\n",
            "Requirement already satisfied: idna<3,>=2.5 in /usr/local/lib/python3.8/dist-packages (from requests>=2.19.0->pooch>=1.0->librosa) (2.10)\n",
            "Requirement already satisfied: certifi>=2017.4.17 in /usr/local/lib/python3.8/dist-packages (from requests>=2.19.0->pooch>=1.0->librosa) (2022.12.7)\n",
            "Requirement already satisfied: chardet<5,>=3.0.2 in /usr/local/lib/python3.8/dist-packages (from requests>=2.19.0->pooch>=1.0->librosa) (4.0.0)\n",
            "Requirement already satisfied: zipp>=0.5 in /usr/local/lib/python3.8/dist-packages (from importlib-metadata->numba>=0.43.0->librosa) (3.12.1)\n",
            "Looking in indexes: https://pypi.org/simple, https://us-python.pkg.dev/colab-wheels/public/simple/\n",
            "Collecting jiwer\n",
            "  Downloading jiwer-2.5.1-py3-none-any.whl (15 kB)\n",
            "Collecting levenshtein==0.20.2\n",
            "  Downloading Levenshtein-0.20.2-cp38-cp38-manylinux_2_17_x86_64.manylinux2014_x86_64.whl (1.4 MB)\n",
            "\u001b[2K     \u001b[90m━━━━━━━━━━━━━━━━━━━━━━━━━━━━━━━━━━━━━━━━\u001b[0m \u001b[32m1.4/1.4 MB\u001b[0m \u001b[31m21.2 MB/s\u001b[0m eta \u001b[36m0:00:00\u001b[0m\n",
            "\u001b[?25hCollecting rapidfuzz<3.0.0,>=2.3.0\n",
            "  Downloading rapidfuzz-2.13.7-cp38-cp38-manylinux_2_17_x86_64.manylinux2014_x86_64.whl (2.2 MB)\n",
            "\u001b[2K     \u001b[90m━━━━━━━━━━━━━━━━━━━━━━━━━━━━━━━━━━━━━━━━\u001b[0m \u001b[32m2.2/2.2 MB\u001b[0m \u001b[31m74.1 MB/s\u001b[0m eta \u001b[36m0:00:00\u001b[0m\n",
            "\u001b[?25hInstalling collected packages: rapidfuzz, levenshtein, jiwer\n",
            "Successfully installed jiwer-2.5.1 levenshtein-0.20.2 rapidfuzz-2.13.7\n",
            "Looking in indexes: https://pypi.org/simple, https://us-python.pkg.dev/colab-wheels/public/simple/\n",
            "Collecting gradio\n",
            "  Downloading gradio-3.18.0-py3-none-any.whl (14.2 MB)\n",
            "\u001b[2K     \u001b[90m━━━━━━━━━━━━━━━━━━━━━━━━━━━━━━━━━━━━━━━━\u001b[0m \u001b[32m14.2/14.2 MB\u001b[0m \u001b[31m73.1 MB/s\u001b[0m eta \u001b[36m0:00:00\u001b[0m\n",
            "\u001b[?25hCollecting ffmpy\n",
            "  Downloading ffmpy-0.3.0.tar.gz (4.8 kB)\n",
            "  Preparing metadata (setup.py) ... \u001b[?25l\u001b[?25hdone\n",
            "Collecting markdown-it-py[linkify,plugins]>=2.0.0\n",
            "  Downloading markdown_it_py-2.1.0-py3-none-any.whl (84 kB)\n",
            "\u001b[2K     \u001b[90m━━━━━━━━━━━━━━━━━━━━━━━━━━━━━━━━━━━━━━━━\u001b[0m \u001b[32m84.5/84.5 KB\u001b[0m \u001b[31m10.4 MB/s\u001b[0m eta \u001b[36m0:00:00\u001b[0m\n",
            "\u001b[?25hRequirement already satisfied: aiohttp in /usr/local/lib/python3.8/dist-packages (from gradio) (3.8.3)\n",
            "Collecting pycryptodome\n",
            "  Downloading pycryptodome-3.17-cp35-abi3-manylinux_2_17_x86_64.manylinux2014_x86_64.whl (2.1 MB)\n",
            "\u001b[2K     \u001b[90m━━━━━━━━━━━━━━━━━━━━━━━━━━━━━━━━━━━━━━━━\u001b[0m \u001b[32m2.1/2.1 MB\u001b[0m \u001b[31m76.1 MB/s\u001b[0m eta \u001b[36m0:00:00\u001b[0m\n",
            "\u001b[?25hRequirement already satisfied: requests in /usr/local/lib/python3.8/dist-packages (from gradio) (2.25.1)\n",
            "Requirement already satisfied: altair>=4.2.0 in /usr/local/lib/python3.8/dist-packages (from gradio) (4.2.2)\n",
            "Requirement already satisfied: jinja2 in /usr/local/lib/python3.8/dist-packages (from gradio) (2.11.3)\n",
            "Requirement already satisfied: pydantic in /usr/local/lib/python3.8/dist-packages (from gradio) (1.10.4)\n",
            "Requirement already satisfied: typing-extensions in /usr/local/lib/python3.8/dist-packages (from gradio) (4.4.0)\n",
            "Requirement already satisfied: pandas in /usr/local/lib/python3.8/dist-packages (from gradio) (1.3.5)\n",
            "Collecting websockets>=10.0\n",
            "  Downloading websockets-10.4-cp38-cp38-manylinux_2_5_x86_64.manylinux1_x86_64.manylinux_2_17_x86_64.manylinux2014_x86_64.whl (106 kB)\n",
            "\u001b[2K     \u001b[90m━━━━━━━━━━━━━━━━━━━━━━━━━━━━━━━━━━━━━━\u001b[0m \u001b[32m107.0/107.0 KB\u001b[0m \u001b[31m12.3 MB/s\u001b[0m eta \u001b[36m0:00:00\u001b[0m\n",
            "\u001b[?25hRequirement already satisfied: fsspec in /usr/local/lib/python3.8/dist-packages (from gradio) (2023.1.0)\n",
            "Collecting orjson\n",
            "  Downloading orjson-3.8.6-cp38-cp38-manylinux_2_28_x86_64.whl (140 kB)\n",
            "\u001b[2K     \u001b[90m━━━━━━━━━━━━━━━━━━━━━━━━━━━━━━━━━━━━━━\u001b[0m \u001b[32m140.7/140.7 KB\u001b[0m \u001b[31m15.3 MB/s\u001b[0m eta \u001b[36m0:00:00\u001b[0m\n",
            "\u001b[?25hRequirement already satisfied: markupsafe in /usr/local/lib/python3.8/dist-packages (from gradio) (2.0.1)\n",
            "Requirement already satisfied: pillow in /usr/local/lib/python3.8/dist-packages (from gradio) (7.1.2)\n",
            "Collecting aiofiles\n",
            "  Downloading aiofiles-23.1.0-py3-none-any.whl (14 kB)\n",
            "Collecting pydub\n",
            "  Downloading pydub-0.25.1-py2.py3-none-any.whl (32 kB)\n",
            "Collecting httpx\n",
            "  Downloading httpx-0.23.3-py3-none-any.whl (71 kB)\n",
            "\u001b[2K     \u001b[90m━━━━━━━━━━━━━━━━━━━━━━━━━━━━━━━━━━━━━━━━\u001b[0m \u001b[32m71.5/71.5 KB\u001b[0m \u001b[31m8.5 MB/s\u001b[0m eta \u001b[36m0:00:00\u001b[0m\n",
            "\u001b[?25hCollecting uvicorn\n",
            "  Downloading uvicorn-0.20.0-py3-none-any.whl (56 kB)\n",
            "\u001b[2K     \u001b[90m━━━━━━━━━━━━━━━━━━━━━━━━━━━━━━━━━━━━━━━━\u001b[0m \u001b[32m56.9/56.9 KB\u001b[0m \u001b[31m6.3 MB/s\u001b[0m eta \u001b[36m0:00:00\u001b[0m\n",
            "\u001b[?25hRequirement already satisfied: pyyaml in /usr/local/lib/python3.8/dist-packages (from gradio) (6.0)\n",
            "Collecting fastapi\n",
            "  Downloading fastapi-0.91.0-py3-none-any.whl (56 kB)\n",
            "\u001b[2K     \u001b[90m━━━━━━━━━━━━━━━━━━━━━━━━━━━━━━━━━━━━━━━━\u001b[0m \u001b[32m56.2/56.2 KB\u001b[0m \u001b[31m6.2 MB/s\u001b[0m eta \u001b[36m0:00:00\u001b[0m\n",
            "\u001b[?25hRequirement already satisfied: matplotlib in /usr/local/lib/python3.8/dist-packages (from gradio) (3.2.2)\n",
            "Requirement already satisfied: numpy in /usr/local/lib/python3.8/dist-packages (from gradio) (1.21.6)\n",
            "Collecting python-multipart\n",
            "  Downloading python-multipart-0.0.5.tar.gz (32 kB)\n",
            "  Preparing metadata (setup.py) ... \u001b[?25l\u001b[?25hdone\n",
            "Requirement already satisfied: entrypoints in /usr/local/lib/python3.8/dist-packages (from altair>=4.2.0->gradio) (0.4)\n",
            "Requirement already satisfied: jsonschema>=3.0 in /usr/local/lib/python3.8/dist-packages (from altair>=4.2.0->gradio) (4.3.3)\n",
            "Requirement already satisfied: toolz in /usr/local/lib/python3.8/dist-packages (from altair>=4.2.0->gradio) (0.12.0)\n",
            "Collecting mdurl~=0.1\n",
            "  Downloading mdurl-0.1.2-py3-none-any.whl (10.0 kB)\n",
            "Collecting mdit-py-plugins\n",
            "  Downloading mdit_py_plugins-0.3.3-py3-none-any.whl (50 kB)\n",
            "\u001b[2K     \u001b[90m━━━━━━━━━━━━━━━━━━━━━━━━━━━━━━━━━━━━━━━━\u001b[0m \u001b[32m50.5/50.5 KB\u001b[0m \u001b[31m4.4 MB/s\u001b[0m eta \u001b[36m0:00:00\u001b[0m\n",
            "\u001b[?25hCollecting linkify-it-py~=1.0\n",
            "  Downloading linkify_it_py-1.0.3-py3-none-any.whl (19 kB)\n",
            "Requirement already satisfied: pytz>=2017.3 in /usr/local/lib/python3.8/dist-packages (from pandas->gradio) (2022.7.1)\n",
            "Requirement already satisfied: python-dateutil>=2.7.3 in /usr/local/lib/python3.8/dist-packages (from pandas->gradio) (2.8.2)\n",
            "Requirement already satisfied: attrs>=17.3.0 in /usr/local/lib/python3.8/dist-packages (from aiohttp->gradio) (22.2.0)\n",
            "Requirement already satisfied: charset-normalizer<3.0,>=2.0 in /usr/local/lib/python3.8/dist-packages (from aiohttp->gradio) (2.1.1)\n",
            "Requirement already satisfied: frozenlist>=1.1.1 in /usr/local/lib/python3.8/dist-packages (from aiohttp->gradio) (1.3.3)\n",
            "Requirement already satisfied: multidict<7.0,>=4.5 in /usr/local/lib/python3.8/dist-packages (from aiohttp->gradio) (6.0.4)\n",
            "Requirement already satisfied: yarl<2.0,>=1.0 in /usr/local/lib/python3.8/dist-packages (from aiohttp->gradio) (1.8.2)\n",
            "Requirement already satisfied: aiosignal>=1.1.2 in /usr/local/lib/python3.8/dist-packages (from aiohttp->gradio) (1.3.1)\n",
            "Requirement already satisfied: async-timeout<5.0,>=4.0.0a3 in /usr/local/lib/python3.8/dist-packages (from aiohttp->gradio) (4.0.2)\n",
            "Collecting starlette<0.25.0,>=0.24.0\n",
            "  Downloading starlette-0.24.0-py3-none-any.whl (65 kB)\n",
            "\u001b[2K     \u001b[90m━━━━━━━━━━━━━━━━━━━━━━━━━━━━━━━━━━━━━━━━\u001b[0m \u001b[32m65.8/65.8 KB\u001b[0m \u001b[31m7.8 MB/s\u001b[0m eta \u001b[36m0:00:00\u001b[0m\n",
            "\u001b[?25hCollecting sniffio\n",
            "  Downloading sniffio-1.3.0-py3-none-any.whl (10 kB)\n",
            "Collecting httpcore<0.17.0,>=0.15.0\n",
            "  Downloading httpcore-0.16.3-py3-none-any.whl (69 kB)\n",
            "\u001b[2K     \u001b[90m━━━━━━━━━━━━━━━━━━━━━━━━━━━━━━━━━━━━━━━━\u001b[0m \u001b[32m69.6/69.6 KB\u001b[0m \u001b[31m8.5 MB/s\u001b[0m eta \u001b[36m0:00:00\u001b[0m\n",
            "\u001b[?25hRequirement already satisfied: certifi in /usr/local/lib/python3.8/dist-packages (from httpx->gradio) (2022.12.7)\n",
            "Collecting rfc3986[idna2008]<2,>=1.3\n",
            "  Downloading rfc3986-1.5.0-py2.py3-none-any.whl (31 kB)\n",
            "Requirement already satisfied: pyparsing!=2.0.4,!=2.1.2,!=2.1.6,>=2.0.1 in /usr/local/lib/python3.8/dist-packages (from matplotlib->gradio) (3.0.9)\n",
            "Requirement already satisfied: kiwisolver>=1.0.1 in /usr/local/lib/python3.8/dist-packages (from matplotlib->gradio) (1.4.4)\n",
            "Requirement already satisfied: cycler>=0.10 in /usr/local/lib/python3.8/dist-packages (from matplotlib->gradio) (0.11.0)\n",
            "Requirement already satisfied: six>=1.4.0 in /usr/local/lib/python3.8/dist-packages (from python-multipart->gradio) (1.15.0)\n",
            "Requirement already satisfied: urllib3<1.27,>=1.21.1 in /usr/local/lib/python3.8/dist-packages (from requests->gradio) (1.26.14)\n",
            "Requirement already satisfied: idna<3,>=2.5 in /usr/local/lib/python3.8/dist-packages (from requests->gradio) (2.10)\n",
            "Requirement already satisfied: chardet<5,>=3.0.2 in /usr/local/lib/python3.8/dist-packages (from requests->gradio) (4.0.0)\n",
            "Collecting h11>=0.8\n",
            "  Downloading h11-0.14.0-py3-none-any.whl (58 kB)\n",
            "\u001b[2K     \u001b[90m━━━━━━━━━━━━━━━━━━━━━━━━━━━━━━━━━━━━━━━━\u001b[0m \u001b[32m58.3/58.3 KB\u001b[0m \u001b[31m7.3 MB/s\u001b[0m eta \u001b[36m0:00:00\u001b[0m\n",
            "\u001b[?25hRequirement already satisfied: click>=7.0 in /usr/local/lib/python3.8/dist-packages (from uvicorn->gradio) (7.1.2)\n",
            "Collecting anyio<5.0,>=3.0\n",
            "  Downloading anyio-3.6.2-py3-none-any.whl (80 kB)\n",
            "\u001b[2K     \u001b[90m━━━━━━━━━━━━━━━━━━━━━━━━━━━━━━━━━━━━━━━━\u001b[0m \u001b[32m80.6/80.6 KB\u001b[0m \u001b[31m9.8 MB/s\u001b[0m eta \u001b[36m0:00:00\u001b[0m\n",
            "\u001b[?25hRequirement already satisfied: pyrsistent!=0.17.0,!=0.17.1,!=0.17.2,>=0.14.0 in /usr/local/lib/python3.8/dist-packages (from jsonschema>=3.0->altair>=4.2.0->gradio) (0.19.3)\n",
            "Requirement already satisfied: importlib-resources>=1.4.0 in /usr/local/lib/python3.8/dist-packages (from jsonschema>=3.0->altair>=4.2.0->gradio) (5.10.2)\n",
            "Collecting uc-micro-py\n",
            "  Downloading uc_micro_py-1.0.1-py3-none-any.whl (6.2 kB)\n",
            "Requirement already satisfied: zipp>=3.1.0 in /usr/local/lib/python3.8/dist-packages (from importlib-resources>=1.4.0->jsonschema>=3.0->altair>=4.2.0->gradio) (3.12.1)\n",
            "Building wheels for collected packages: ffmpy, python-multipart\n",
            "  Building wheel for ffmpy (setup.py) ... \u001b[?25l\u001b[?25hdone\n",
            "  Created wheel for ffmpy: filename=ffmpy-0.3.0-py3-none-any.whl size=4711 sha256=be1c1bbc7eb5a8984a54729ddaa629c819e1edcbd916f3473438d0d488255cd9\n",
            "  Stored in directory: /root/.cache/pip/wheels/ff/5b/59/913b443e7369dc04b61f607a746b6f7d83fb65e2e19fcc958d\n",
            "  Building wheel for python-multipart (setup.py) ... \u001b[?25l\u001b[?25hdone\n",
            "  Created wheel for python-multipart: filename=python_multipart-0.0.5-py3-none-any.whl size=31678 sha256=6c36b22b911599ee49b8ac4031fcbdf8012db0186602f94ac4eacf694dbc5511\n",
            "  Stored in directory: /root/.cache/pip/wheels/9e/fc/1c/cf980e6413d3ee8e70cd8f39e2366b0f487e3e221aeb452eb0\n",
            "Successfully built ffmpy python-multipart\n",
            "Installing collected packages: rfc3986, pydub, ffmpy, websockets, uc-micro-py, sniffio, python-multipart, pycryptodome, orjson, mdurl, h11, aiofiles, uvicorn, markdown-it-py, linkify-it-py, anyio, starlette, mdit-py-plugins, httpcore, httpx, fastapi, gradio\n",
            "Successfully installed aiofiles-23.1.0 anyio-3.6.2 fastapi-0.91.0 ffmpy-0.3.0 gradio-3.18.0 h11-0.14.0 httpcore-0.16.3 httpx-0.23.3 linkify-it-py-1.0.3 markdown-it-py-2.1.0 mdit-py-plugins-0.3.3 mdurl-0.1.2 orjson-3.8.6 pycryptodome-3.17 pydub-0.25.1 python-multipart-0.0.5 rfc3986-1.5.0 sniffio-1.3.0 starlette-0.24.0 uc-micro-py-1.0.1 uvicorn-0.20.0 websockets-10.4\n"
          ]
        }
      ],
      "source": [
        "!pip install datasets>=2.6.1\n",
        "!pip install git+https://github.com/huggingface/transformers\n",
        "!pip install librosa\n",
        "!pip install evaluate>=0.30\n",
        "!pip install jiwer\n",
        "!pip install gradio"
      ]
    },
    {
      "cell_type": "code",
      "execution_count": null,
      "id": "b045a39e-2a3e-4153-bdb5-281500bcd348",
      "metadata": {
        "id": "b045a39e-2a3e-4153-bdb5-281500bcd348",
        "colab": {
          "base_uri": "https://localhost:8080/",
          "height": 358,
          "referenced_widgets": [
            "ecd1fafdbbaa48b2bb708d36ee316613",
            "30db8b43e9e046e9b8a680483348615c",
            "7650766fa0354b9aa5a14871c3a70ac7",
            "d5e739597af5450eaaba353d3952ff99",
            "b959df8e316445b9a9e072b1bcda7a8e",
            "c3aceddfe7ec49218a191a40e28708f6",
            "2001159ce5684840b0260bceb5807b08",
            "b7a48d17c78c42f9aa3db507c196e634",
            "1f6a9613bf5541fc9e85affb5a5842ce",
            "fa7065b4088e457da9de559cbb148da7",
            "4b0393c54514492b9030a56f6a497ffa",
            "a6c7ff0296864decad1f461afabb6eed",
            "84e346c895b4467e907848a40d1dd562",
            "7bb056c695754e7b937aa9a13859467e",
            "1d7a6804c04643ec8178b82a0e552251",
            "38f57df838b34a9a98087391407fa68f",
            "336afc782e4848cf8a40109b8994b548"
          ]
        },
        "outputId": "9c0b6ca7-f79a-467a-eae9-ea547c43c055"
      },
      "outputs": [
        {
          "output_type": "stream",
          "name": "stdout",
          "text": [
            "Token is valid.\n",
            "Your token has been saved in your configured git credential helpers (store).\n",
            "Your token has been saved to /root/.huggingface/token\n",
            "Login successful\n"
          ]
        }
      ],
      "source": [
        "from huggingface_hub import notebook_login\n",
        "notebook_login()"
      ]
    },
    {
      "cell_type": "code",
      "source": [
        "BASE_MODEL = \"openai/whisper-tiny\""
      ],
      "metadata": {
        "id": "fw0ktPiUg-OI"
      },
      "id": "fw0ktPiUg-OI",
      "execution_count": null,
      "outputs": []
    },
    {
      "cell_type": "markdown",
      "id": "b219c9dd-39b6-4a95-b2a1-3f547a1e7bc0",
      "metadata": {
        "id": "b219c9dd-39b6-4a95-b2a1-3f547a1e7bc0"
      },
      "source": [
        "## Load Dataset"
      ]
    },
    {
      "cell_type": "markdown",
      "id": "674429c5-0ab4-4adf-975b-621bb69eca38",
      "metadata": {
        "id": "674429c5-0ab4-4adf-975b-621bb69eca38"
      },
      "source": [
        "Using 🤗 Datasets, downloading and preparing data is extremely simple.\n",
        "We can download and prepare the Common Voice splits in just one line of code.\n",
        "\n",
        "First, ensure you have accepted the terms of use on the Hugging Face Hub: [mozilla-foundation/common_voice_11_0](https://huggingface.co/datasets/mozilla-foundation/common_voice_11_0). Once you have accepted the terms, you will have full access to the dataset and be able to download the data locally.\n",
        "\n",
        "We'll combine the `train` and `validation`\n",
        "splits to give approximately 8 hours of training data. We'll use the 4 hours\n",
        "of `test` data as our held-out test set:"
      ]
    },
    {
      "cell_type": "code",
      "execution_count": null,
      "id": "a2787582-554f-44ce-9f38-4180a5ed6b44",
      "metadata": {
        "id": "a2787582-554f-44ce-9f38-4180a5ed6b44",
        "colab": {
          "base_uri": "https://localhost:8080/"
        },
        "outputId": "de0015b6-e01f-4e31-f6d1-a93ce24e2306"
      },
      "outputs": [
        {
          "output_type": "stream",
          "name": "stderr",
          "text": [
            "WARNING:datasets.builder:Found cached dataset common_voice_11_0 (/root/.cache/huggingface/datasets/mozilla-foundation___common_voice_11_0/ar/11.0.0/8975395f1d50a6b61f707acd3416761702d3b25412f5fb1004e1db51fe7c304a)\n",
            "WARNING:datasets.builder:Found cached dataset common_voice_11_0 (/root/.cache/huggingface/datasets/mozilla-foundation___common_voice_11_0/ar/11.0.0/8975395f1d50a6b61f707acd3416761702d3b25412f5fb1004e1db51fe7c304a)\n"
          ]
        },
        {
          "output_type": "stream",
          "name": "stdout",
          "text": [
            "DatasetDict({\n",
            "    train: Dataset({\n",
            "        features: ['client_id', 'path', 'audio', 'sentence', 'up_votes', 'down_votes', 'age', 'gender', 'accent', 'locale', 'segment'],\n",
            "        num_rows: 38481\n",
            "    })\n",
            "    test: Dataset({\n",
            "        features: ['client_id', 'path', 'audio', 'sentence', 'up_votes', 'down_votes', 'age', 'gender', 'accent', 'locale', 'segment'],\n",
            "        num_rows: 10440\n",
            "    })\n",
            "})\n"
          ]
        }
      ],
      "source": [
        "from datasets import load_dataset, DatasetDict\n",
        "\n",
        "common_voice = DatasetDict()\n",
        "\n",
        "common_voice[\"train\"] = load_dataset(\"mozilla-foundation/common_voice_11_0\", \"ar\", split=\"train+validation\", use_auth_token=True)\n",
        "common_voice[\"test\"] = load_dataset(\"mozilla-foundation/common_voice_11_0\", \"ar\", split=\"test\", use_auth_token=True)\n",
        "\n",
        "print(common_voice)"
      ]
    },
    {
      "cell_type": "markdown",
      "id": "d5c7c3d6-7197-41e7-a088-49b753c1681f",
      "metadata": {
        "id": "d5c7c3d6-7197-41e7-a088-49b753c1681f"
      },
      "source": [
        "Most ASR datasets only provide input audio samples (`audio`) and the\n",
        "corresponding transcribed text (`sentence`). Common Voice contains additional\n",
        "metadata information, such as `accent` and `locale`, which we can disregard for ASR.\n",
        "Keeping the notebook as general as possible, we only consider the input audio and\n",
        "transcribed text for fine-tuning, discarding the additional metadata information:"
      ]
    },
    {
      "cell_type": "code",
      "execution_count": null,
      "id": "20ba635d-518c-47ac-97ee-3cad25f1e0ce",
      "metadata": {
        "id": "20ba635d-518c-47ac-97ee-3cad25f1e0ce",
        "colab": {
          "base_uri": "https://localhost:8080/"
        },
        "outputId": "93d7ea48-8dd9-4566-cdab-c478a5f96e20"
      },
      "outputs": [
        {
          "output_type": "stream",
          "name": "stdout",
          "text": [
            "DatasetDict({\n",
            "    train: Dataset({\n",
            "        features: ['audio', 'sentence'],\n",
            "        num_rows: 38481\n",
            "    })\n",
            "    test: Dataset({\n",
            "        features: ['audio', 'sentence'],\n",
            "        num_rows: 10440\n",
            "    })\n",
            "})\n"
          ]
        }
      ],
      "source": [
        "common_voice = common_voice.remove_columns([\"accent\", \"age\", \"client_id\", \"down_votes\", \"gender\", \"locale\", \"path\", \"segment\", \"up_votes\"])\n",
        "\n",
        "print(common_voice)"
      ]
    },
    {
      "cell_type": "code",
      "source": [
        "sample = common_voice['train'][4]\n",
        "print(sample)"
      ],
      "metadata": {
        "colab": {
          "base_uri": "https://localhost:8080/"
        },
        "id": "LgZlMfOiewKJ",
        "outputId": "c6f08c4a-3af0-47bf-a4ad-c64be7c5a776"
      },
      "id": "LgZlMfOiewKJ",
      "execution_count": null,
      "outputs": [
        {
          "output_type": "stream",
          "name": "stdout",
          "text": [
            "{'audio': {'path': '/root/.cache/huggingface/datasets/downloads/extracted/88b9814b92fde328c0884b8c80e1bef34be70b365af58b508b5058d520736eb5/cv-corpus-11.0-2022-09-21/ar/clips/common_voice_ar_19227176.mp3', 'array': array([ 0.0000000e+00, -4.8836606e-14, -6.5283892e-14, ...,\n",
            "       -2.8335210e-04, -2.5399099e-04, -1.3521209e-04], dtype=float32), 'sampling_rate': 48000}, 'sentence': 'لديها ابنة تعزف على البيانو.'}\n"
          ]
        }
      ]
    },
    {
      "cell_type": "code",
      "source": [
        "from IPython.display import Audio, display\n",
        "display(Audio(sample['audio']['path'], autoplay=False))\n",
        "print(sample['sentence'])"
      ],
      "metadata": {
        "colab": {
          "base_uri": "https://localhost:8080/",
          "height": 92
        },
        "id": "OLhHI51Xfunm",
        "outputId": "db9d88e4-8e4b-420e-d2e1-f95da4cb7d40"
      },
      "id": "OLhHI51Xfunm",
      "execution_count": null,
      "outputs": [
        {
          "output_type": "stream",
          "name": "stdout",
          "text": [
            "لديها ابنة تعزف على البيانو.\n"
          ]
        },
        {
          "output_type": "display_data",
          "data": {
            "text/plain": [
              "<IPython.lib.display.Audio object>"
            ],
            "text/html": [
              "\n",
              "                <audio  controls=\"controls\" >\n",
              "                    <source src=\"data:audio/mpeg;base64,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\" type=\"audio/mpeg\" />\n",
              "                    Your browser does not support the audio element.\n",
              "                </audio>\n",
              "              "
            ]
          },
          "metadata": {}
        }
      ]
    },
    {
      "cell_type": "markdown",
      "id": "2d63b2d2-f68a-4d74-b7f1-5127f6d16605",
      "metadata": {
        "id": "2d63b2d2-f68a-4d74-b7f1-5127f6d16605"
      },
      "source": [
        "## Prepare Feature Extractor, Tokenizer and Data"
      ]
    },
    {
      "cell_type": "markdown",
      "id": "601c3099-1026-439e-93e2-5635b3ba5a73",
      "metadata": {
        "id": "601c3099-1026-439e-93e2-5635b3ba5a73"
      },
      "source": [
        "The ASR pipeline can be de-composed into three stages:\n",
        "1) A feature extractor which pre-processes the raw audio-inputs\n",
        "2) The model which performs the sequence-to-sequence mapping\n",
        "3) A tokenizer which post-processes the model outputs to text format\n",
        "\n",
        "In 🤗 Transformers, the Whisper model has an associated feature extractor and tokenizer,\n",
        "called [WhisperFeatureExtractor](https://huggingface.co/docs/transformers/main/model_doc/whisper#transformers.WhisperFeatureExtractor)\n",
        "and [WhisperTokenizer](https://huggingface.co/docs/transformers/main/model_doc/whisper#transformers.WhisperTokenizer)\n",
        "respectively.\n",
        "\n",
        "We'll go through details for setting-up the feature extractor and tokenizer one-by-one!"
      ]
    },
    {
      "cell_type": "markdown",
      "id": "560332eb-3558-41a1-b500-e83a9f695f84",
      "metadata": {
        "id": "560332eb-3558-41a1-b500-e83a9f695f84"
      },
      "source": [
        "### Load WhisperFeatureExtractor"
      ]
    },
    {
      "cell_type": "markdown",
      "id": "32ec8068-0bd7-412d-b662-0edb9d1e7365",
      "metadata": {
        "id": "32ec8068-0bd7-412d-b662-0edb9d1e7365"
      },
      "source": [
        "The Whisper feature extractor performs two operations:\n",
        "1. Pads / truncates the audio inputs to 30s: any audio inputs shorter than 30s are padded to 30s with silence (zeros), and those longer that 30s are truncated to 30s\n",
        "2. Converts the audio inputs to _log-Mel spectrogram_ input features, a visual representation of the audio and the form of the input expected by the Whisper model"
      ]
    },
    {
      "cell_type": "markdown",
      "id": "589d9ec1-d12b-4b64-93f7-04c63997da19",
      "metadata": {
        "id": "589d9ec1-d12b-4b64-93f7-04c63997da19"
      },
      "source": [
        "<figure>\n",
        "<img src=\"https://raw.githubusercontent.com/sanchit-gandhi/notebooks/main/spectrogram.jpg\" alt=\"Trulli\" style=\"width:100%\">\n",
        "<figcaption align = \"center\"><b>Figure 2:</b> Conversion of sampled audio array to log-Mel spectrogram.\n",
        "Left: sampled 1-dimensional audio signal. Right: corresponding log-Mel spectrogram. Figure source:\n",
        "<a href=\"https://ai.googleblog.com/2019/04/specaugment-new-data-augmentation.html\">Google SpecAugment Blog</a>.\n",
        "</figcaption>"
      ]
    },
    {
      "cell_type": "markdown",
      "id": "b2ef54d5-b946-4c1d-9fdc-adc5d01b46aa",
      "metadata": {
        "id": "b2ef54d5-b946-4c1d-9fdc-adc5d01b46aa"
      },
      "source": [
        "We'll load the feature extractor from the pre-trained checkpoint with the default values:"
      ]
    },
    {
      "cell_type": "code",
      "execution_count": null,
      "id": "bc77d7bb-f9e2-47f5-b663-30f7a4321ce5",
      "metadata": {
        "id": "bc77d7bb-f9e2-47f5-b663-30f7a4321ce5"
      },
      "outputs": [],
      "source": [
        "from transformers import WhisperFeatureExtractor\n",
        "\n",
        "feature_extractor = WhisperFeatureExtractor.from_pretrained(BASE_MODEL)"
      ]
    },
    {
      "cell_type": "markdown",
      "id": "93748af7-b917-4ecf-a0c8-7d89077ff9cb",
      "metadata": {
        "id": "93748af7-b917-4ecf-a0c8-7d89077ff9cb"
      },
      "source": [
        "### Load WhisperTokenizer"
      ]
    },
    {
      "cell_type": "markdown",
      "id": "2bc82609-a9fb-447a-a2af-99597c864029",
      "metadata": {
        "id": "2bc82609-a9fb-447a-a2af-99597c864029"
      },
      "source": [
        "The Whisper model outputs a sequence of _token ids_. The tokenizer maps each of these token ids to their corresponding text string. For Arabic, we can load the pre-trained tokenizer and use it for fine-tuning without any further modifications. We simply have to\n",
        "specify the target language and the task. These arguments inform the\n",
        "tokenizer to prefix the language and task tokens to the start of encoded\n",
        "label sequences:"
      ]
    },
    {
      "cell_type": "code",
      "execution_count": null,
      "id": "c7b07f9b-ae0e-4f89-98f0-0c50d432eab6",
      "metadata": {
        "id": "c7b07f9b-ae0e-4f89-98f0-0c50d432eab6"
      },
      "outputs": [],
      "source": [
        "from transformers import WhisperTokenizer\n",
        "\n",
        "tokenizer = WhisperTokenizer.from_pretrained(BASE_MODEL, language=\"Arabic\", task=\"transcribe\")"
      ]
    },
    {
      "cell_type": "markdown",
      "id": "d2ef23f3-f4a8-483a-a2dc-080a7496cb1b",
      "metadata": {
        "id": "d2ef23f3-f4a8-483a-a2dc-080a7496cb1b"
      },
      "source": [
        "### Create A WhisperProcessor"
      ]
    },
    {
      "cell_type": "markdown",
      "id": "5ff67654-5a29-4bb8-a69d-0228946c6f8d",
      "metadata": {
        "id": "5ff67654-5a29-4bb8-a69d-0228946c6f8d"
      },
      "source": [
        "To simplify using the feature extractor and tokenizer, we can _wrap_\n",
        "both into a single `WhisperProcessor` class. This processor object\n",
        "inherits from the `WhisperFeatureExtractor` and `WhisperProcessor`,\n",
        "and can be used on the audio inputs and model predictions as required.\n",
        "In doing so, we only need to keep track of two objects during training:\n",
        "the `processor` and the `model`:"
      ]
    },
    {
      "cell_type": "code",
      "execution_count": null,
      "id": "77d9f0c5-8607-4642-a8ac-c3ab2e223ea6",
      "metadata": {
        "id": "77d9f0c5-8607-4642-a8ac-c3ab2e223ea6"
      },
      "outputs": [],
      "source": [
        "from transformers import WhisperProcessor\n",
        "\n",
        "processor = WhisperProcessor.from_pretrained(BASE_MODEL, language=\"Arabic\", task=\"transcribe\")"
      ]
    },
    {
      "cell_type": "markdown",
      "id": "381acd09-0b0f-4d04-9eb3-f028ac0e5f2c",
      "metadata": {
        "id": "381acd09-0b0f-4d04-9eb3-f028ac0e5f2c"
      },
      "source": [
        "### Prepare Data"
      ]
    },
    {
      "cell_type": "markdown",
      "id": "9649bf01-2e8a-45e5-8fca-441c13637b8f",
      "metadata": {
        "id": "9649bf01-2e8a-45e5-8fca-441c13637b8f"
      },
      "source": [
        "Let's print the first example of the Common Voice dataset to see\n",
        "what form the data is in:"
      ]
    },
    {
      "cell_type": "code",
      "source": [
        "common_voice"
      ],
      "metadata": {
        "colab": {
          "base_uri": "https://localhost:8080/"
        },
        "id": "a8769_UC70Pm",
        "outputId": "c0902c83-00d3-4ab2-e30f-f9fcb3e9115d"
      },
      "id": "a8769_UC70Pm",
      "execution_count": null,
      "outputs": [
        {
          "output_type": "execute_result",
          "data": {
            "text/plain": [
              "DatasetDict({\n",
              "    train: Dataset({\n",
              "        features: ['audio', 'sentence'],\n",
              "        num_rows: 38481\n",
              "    })\n",
              "    test: Dataset({\n",
              "        features: ['audio', 'sentence'],\n",
              "        num_rows: 10440\n",
              "    })\n",
              "})"
            ]
          },
          "metadata": {},
          "execution_count": 50
        }
      ]
    },
    {
      "cell_type": "code",
      "execution_count": null,
      "id": "6e6b0ec5-0c94-4e2c-ae24-c791be1b2255",
      "metadata": {
        "id": "6e6b0ec5-0c94-4e2c-ae24-c791be1b2255",
        "colab": {
          "base_uri": "https://localhost:8080/"
        },
        "outputId": "9e182be3-4205-4061-9e4f-8f89aaa291af"
      },
      "outputs": [
        {
          "output_type": "stream",
          "name": "stdout",
          "text": [
            "{'audio': {'path': '/root/.cache/huggingface/datasets/downloads/extracted/88b9814b92fde328c0884b8c80e1bef34be70b365af58b508b5058d520736eb5/cv-corpus-11.0-2022-09-21/ar/clips/common_voice_ar_19225971.mp3', 'array': array([ 0.0000000e+00,  0.0000000e+00,  0.0000000e+00, ...,\n",
            "        2.3667126e-06, -2.5793133e-06,  6.8762515e-06], dtype=float32), 'sampling_rate': 48000}, 'sentence': 'محصول الطماطم جودته عالية.'}\n"
          ]
        }
      ],
      "source": [
        "print(common_voice[\"train\"][0])"
      ]
    },
    {
      "cell_type": "markdown",
      "id": "5a679f05-063d-41b3-9b58-4fc9c6ccf4fd",
      "metadata": {
        "id": "5a679f05-063d-41b3-9b58-4fc9c6ccf4fd"
      },
      "source": [
        "Since\n",
        "our input audio is sampled at 48kHz, we need to _downsample_ it to\n",
        "16kHz prior to passing it to the Whisper feature extractor, 16kHz being the sampling rate expected by the Whisper model.\n",
        "\n",
        "We'll set the audio inputs to the correct sampling rate using dataset's\n",
        "[`cast_column`](https://huggingface.co/docs/datasets/package_reference/main_classes.html?highlight=cast_column#datasets.DatasetDict.cast_column)\n",
        "method. This operation does not change the audio in-place,\n",
        "but rather signals to `datasets` to resample audio samples _on the fly_ the\n",
        "first time that they are loaded:"
      ]
    },
    {
      "cell_type": "code",
      "execution_count": null,
      "id": "f12e2e57-156f-417b-8cfb-69221cc198e8",
      "metadata": {
        "id": "f12e2e57-156f-417b-8cfb-69221cc198e8"
      },
      "outputs": [],
      "source": [
        "from datasets import Audio\n",
        "\n",
        "common_voice = common_voice.cast_column(\"audio\", Audio(sampling_rate=16000))"
      ]
    },
    {
      "cell_type": "markdown",
      "id": "00382a3e-abec-4cdd-a54c-d1aaa3ea4707",
      "metadata": {
        "id": "00382a3e-abec-4cdd-a54c-d1aaa3ea4707"
      },
      "source": [
        "Re-loading the first audio sample in the Common Voice dataset will resample\n",
        "it to the desired sampling rate:"
      ]
    },
    {
      "cell_type": "code",
      "execution_count": null,
      "id": "87122d71-289a-466a-afcf-fa354b18946b",
      "metadata": {
        "id": "87122d71-289a-466a-afcf-fa354b18946b",
        "colab": {
          "base_uri": "https://localhost:8080/"
        },
        "outputId": "ace105a5-a26a-4de1-f941-dc10837bbed9"
      },
      "outputs": [
        {
          "output_type": "stream",
          "name": "stdout",
          "text": [
            "{'audio': {'path': '/root/.cache/huggingface/datasets/downloads/extracted/88b9814b92fde328c0884b8c80e1bef34be70b365af58b508b5058d520736eb5/cv-corpus-11.0-2022-09-21/ar/clips/common_voice_ar_19225971.mp3', 'array': array([0.0000000e+00, 0.0000000e+00, 0.0000000e+00, ..., 3.9961551e-06,\n",
            "       8.9953237e-06, 6.5385566e-06], dtype=float32), 'sampling_rate': 16000}, 'sentence': 'محصول الطماطم جودته عالية.'}\n"
          ]
        }
      ],
      "source": [
        "print(common_voice[\"train\"][0])"
      ]
    },
    {
      "cell_type": "markdown",
      "id": "91edc72d-08f8-4f01-899d-74e65ce441fc",
      "metadata": {
        "id": "91edc72d-08f8-4f01-899d-74e65ce441fc"
      },
      "source": [
        "Now we can write a function to prepare our data ready for the model:\n",
        "1. We load and resample the audio data by calling `batch[\"audio\"]`. As explained above, 🤗 Datasets performs any necessary resampling operations on the fly.\n",
        "2. We use the feature extractor to compute the log-Mel spectrogram input features from our 1-dimensional audio array.\n",
        "3. We encode the transcriptions to label ids through the use of the tokenizer."
      ]
    },
    {
      "cell_type": "code",
      "execution_count": null,
      "id": "6525c478-8962-4394-a1c4-103c54cce170",
      "metadata": {
        "id": "6525c478-8962-4394-a1c4-103c54cce170"
      },
      "outputs": [],
      "source": [
        "def prepare_dataset(batch):\n",
        "    # load and resample audio data from 48 to 16kHz\n",
        "    audio = batch[\"audio\"]\n",
        "\n",
        "    # compute log-Mel input features from input audio array\n",
        "    batch[\"input_features\"] = feature_extractor(audio[\"array\"], sampling_rate=audio[\"sampling_rate\"]).input_features[0]\n",
        "\n",
        "    # encode target text to label ids\n",
        "    batch[\"labels\"] = tokenizer(batch[\"sentence\"]).input_ids\n",
        "    return batch"
      ]
    },
    {
      "cell_type": "markdown",
      "id": "70b319fb-2439-4ef6-a70d-a47bf41c4a13",
      "metadata": {
        "id": "70b319fb-2439-4ef6-a70d-a47bf41c4a13"
      },
      "source": [
        "We can apply the data preparation function to all of our training examples using dataset's `.map` method. The argument `num_proc` specifies how many multiprocesses to use. If the `.map` method hangs with multiprocessing, set `num_proc=1` and process the dataset sequentially."
      ]
    },
    {
      "cell_type": "code",
      "execution_count": null,
      "id": "7b73ab39-ffaf-4b9e-86e5-782963c6134b",
      "metadata": {
        "id": "7b73ab39-ffaf-4b9e-86e5-782963c6134b"
      },
      "outputs": [],
      "source": [
        "common_voice = common_voice.map(prepare_dataset, remove_columns=common_voice.column_names[\"train\"], num_proc=2)"
      ]
    },
    {
      "cell_type": "code",
      "source": [
        "common_voice"
      ],
      "metadata": {
        "id": "tkjYRudn1f22"
      },
      "id": "tkjYRudn1f22",
      "execution_count": null,
      "outputs": []
    },
    {
      "cell_type": "code",
      "source": [
        "!pip install datasets"
      ],
      "metadata": {
        "id": "g4AzfcBrtUqU"
      },
      "id": "g4AzfcBrtUqU",
      "execution_count": null,
      "outputs": []
    },
    {
      "cell_type": "code",
      "source": [
        "from datasets import load_dataset\n",
        "data = load_dataset(\"arabic_speech_corpus\")"
      ],
      "metadata": {
        "colab": {
          "base_uri": "https://localhost:8080/",
          "height": 264,
          "referenced_widgets": [
            "3d5be71727814da2b5e684fb37cd590e",
            "5f9cceea26c04f7fbd8eb53cf9b25c46",
            "a820b1a8dece44caa962eaadd20c2252",
            "48e1d0f4c32045f4a4881f49b3959532",
            "d4250ac1be66455ba7fd9495aca47747",
            "4ec1717271e644c8bf609652b7286046",
            "2fc713f52bba4b6d8ff129bf818d5ceb",
            "3fb638569ac54b7aa27b9154a6bb1d5a",
            "dc515068f8ce4b23afb115b81424633d",
            "1e4e30985c134b858eec0187a27ae5e0",
            "68bb1a08b1e44a16a01bd175d5e2535e",
            "d21fc602c1c6491798fc4642250ef055",
            "33408b1340544be3b65e488730013de5",
            "109f4ef2d2e949fd80f50910f8bac3ee",
            "240f27a78da24e1aacf8d1b86cb98b0a",
            "47a5ac0fe7dd4977a4a5d164238a24ff",
            "ae5a0b8ecc3f4c9aadcb9dc2bf0ea2c0",
            "363a84b179c649fda9d565d3e4a12244",
            "2722f09e691a4e409077e48cc6593805",
            "bfa907c5abbf47a5b4c93314df84bde1",
            "adc5268e504642b38a5fc5098dd628f1",
            "f5dabc419fbb4f9493f852759cb6809d",
            "46ee94b1508745bd936ce71ede1b2ff3",
            "0bc570ad9c5b42908173704a719ea47f",
            "c7f4e86d80e04487be25d1e91ba6d4b7",
            "8014480bb85544a19f4dc0d0307be7b8",
            "9e05858cae8242569107abd83dd2a16a",
            "5f8077ae3b624999b5eb04f5c6b07219",
            "392ba79f79354850a626f54350c9cd59",
            "3d7329f626894b06bc12779223d5a1c9",
            "822683323a654ff4ad13d71e3bc60625",
            "9418b87450044334905d2d7a376076be",
            "60585d51f42b4d9ba084b5aaeec9d23f",
            "39de38d5c8d54d0cb7bb9f0cd100f93e",
            "9713dd11c34144b6871ac8e6f482ddf2",
            "8893332a0a30482fa05d23d5dbdb1314",
            "94696b4ba4d24bd0b94b807cb23b9f95",
            "587a76780e8842cb96ae783b6c90c494",
            "35b8d04547f04780909ce67c90e1ca87",
            "02c8f2e1c06d409facbef853b073e8ef",
            "f6615ce4574e443aa8fcfee9003aad04",
            "64db43c4f33b46d1843c4da1436e4de2",
            "fe2592291eac4bc9b23e0f9cc73881f9",
            "43ca11db5fbd465cb00fc43a40fbaf6e",
            "d8062d0873354f5fb0bd483e4f540c78",
            "ddd19d03d8cf4968acfb16e934618b13",
            "5a560d37065940c390a58c26b9758f7a",
            "5378fd5ca1584f2a96cea6bc779d009b",
            "3f6cd28f318640eeb6c2f688724dbafe",
            "c2024e94d8a04f599c86d5e56ba36781",
            "cfb5693f8a6e4ab29e256b3db8775977",
            "9beb721689864c29ad27c7edeafe4b5d",
            "ab7fc7c716f94758a46846a39b22f68f",
            "13e024527a4a478f984c8575c950c53f",
            "d79745a43dcd4ac0a99237152eb62fb2",
            "59166ddc4c5a4e7dabd2abe04fed95fb",
            "3e5e658a459e44d78cdaf961407a4c9f",
            "68db7aa39b534306b5573151b898393e",
            "c2e2315871194d00ae04ed2e1127cef4",
            "fbc4cc0229ce427c9285be64dfb8cfe1",
            "84b83349768446f4ba048092b1c47548",
            "fe661692efae4645bf5e609c2c7819e4",
            "611d0382af7b4fd5bf4ba97e0dd53780",
            "e5a2af4d53094b37ba80a4475b0bc18b",
            "49341d9225774234a6b08f42716068dc",
            "eb15a7b52e614f97945c01a152f5d302",
            "32fc5a9e6a05404eaff1431691133be6",
            "d518524362854220b4a0883835612438",
            "21297524c2d44e2582cd8d38a8d4ee73",
            "5b93a2739b914e979e8b77f3526ff151",
            "06d25f91f93a49a2909ab29b02dfda19",
            "440ec64b7e1d48faa8e89a31383b34ce",
            "0d484cf97fee413fa596c65ed11e53c8",
            "93e193aed4de4af59973353d843300c6",
            "008c9b16e51a456889823265fbf8ec38",
            "0de2793357ea4c5cb746fd5686c9fb45",
            "fa5ba7c0fe85475987682909c424daa8"
          ]
        },
        "id": "_OHgMDJ-tWnL",
        "outputId": "bcaa84ee-90e7-4735-90a6-05ae43c394a3"
      },
      "id": "_OHgMDJ-tWnL",
      "execution_count": null,
      "outputs": [
        {
          "output_type": "display_data",
          "data": {
            "text/plain": [
              "Downloading builder script:   0%|          | 0.00/5.33k [00:00<?, ?B/s]"
            ],
            "application/vnd.jupyter.widget-view+json": {
              "version_major": 2,
              "version_minor": 0,
              "model_id": "3d5be71727814da2b5e684fb37cd590e"
            }
          },
          "metadata": {}
        },
        {
          "output_type": "display_data",
          "data": {
            "text/plain": [
              "Downloading metadata:   0%|          | 0.00/2.38k [00:00<?, ?B/s]"
            ],
            "application/vnd.jupyter.widget-view+json": {
              "version_major": 2,
              "version_minor": 0,
              "model_id": "d21fc602c1c6491798fc4642250ef055"
            }
          },
          "metadata": {}
        },
        {
          "output_type": "display_data",
          "data": {
            "text/plain": [
              "Downloading readme:   0%|          | 0.00/9.62k [00:00<?, ?B/s]"
            ],
            "application/vnd.jupyter.widget-view+json": {
              "version_major": 2,
              "version_minor": 0,
              "model_id": "46ee94b1508745bd936ce71ede1b2ff3"
            }
          },
          "metadata": {}
        },
        {
          "output_type": "stream",
          "name": "stdout",
          "text": [
            "Downloading and preparing dataset arabic_speech_corpus/clean to /root/.cache/huggingface/datasets/arabic_speech_corpus/clean/2.1.0/6d3f67a1b44f6a73a952b1130167cd94c31d0375918b431a10b6f68ae9145a05...\n"
          ]
        },
        {
          "output_type": "display_data",
          "data": {
            "text/plain": [
              "Downloading data:   0%|          | 0.00/1.19G [00:00<?, ?B/s]"
            ],
            "application/vnd.jupyter.widget-view+json": {
              "version_major": 2,
              "version_minor": 0,
              "model_id": "39de38d5c8d54d0cb7bb9f0cd100f93e"
            }
          },
          "metadata": {}
        },
        {
          "output_type": "display_data",
          "data": {
            "text/plain": [
              "Generating train split:   0%|          | 0/1813 [00:00<?, ? examples/s]"
            ],
            "application/vnd.jupyter.widget-view+json": {
              "version_major": 2,
              "version_minor": 0,
              "model_id": "d8062d0873354f5fb0bd483e4f540c78"
            }
          },
          "metadata": {}
        },
        {
          "output_type": "display_data",
          "data": {
            "text/plain": [
              "Generating test split:   0%|          | 0/100 [00:00<?, ? examples/s]"
            ],
            "application/vnd.jupyter.widget-view+json": {
              "version_major": 2,
              "version_minor": 0,
              "model_id": "59166ddc4c5a4e7dabd2abe04fed95fb"
            }
          },
          "metadata": {}
        },
        {
          "output_type": "stream",
          "name": "stdout",
          "text": [
            "Dataset arabic_speech_corpus downloaded and prepared to /root/.cache/huggingface/datasets/arabic_speech_corpus/clean/2.1.0/6d3f67a1b44f6a73a952b1130167cd94c31d0375918b431a10b6f68ae9145a05. Subsequent calls will reuse this data.\n"
          ]
        },
        {
          "output_type": "display_data",
          "data": {
            "text/plain": [
              "  0%|          | 0/2 [00:00<?, ?it/s]"
            ],
            "application/vnd.jupyter.widget-view+json": {
              "version_major": 2,
              "version_minor": 0,
              "model_id": "32fc5a9e6a05404eaff1431691133be6"
            }
          },
          "metadata": {}
        }
      ]
    },
    {
      "cell_type": "code",
      "source": [
        "data"
      ],
      "metadata": {
        "colab": {
          "base_uri": "https://localhost:8080/"
        },
        "id": "HsR0sQc0uDjS",
        "outputId": "c2596ff4-94d9-4ebb-b144-ac43cc170c2a"
      },
      "id": "HsR0sQc0uDjS",
      "execution_count": null,
      "outputs": [
        {
          "output_type": "execute_result",
          "data": {
            "text/plain": [
              "DatasetDict({\n",
              "    train: Dataset({\n",
              "        features: ['file', 'text', 'audio', 'phonetic', 'orthographic'],\n",
              "        num_rows: 1813\n",
              "    })\n",
              "    test: Dataset({\n",
              "        features: ['file', 'text', 'audio', 'phonetic', 'orthographic'],\n",
              "        num_rows: 100\n",
              "    })\n",
              "})"
            ]
          },
          "metadata": {},
          "execution_count": 4
        }
      ]
    },
    {
      "cell_type": "code",
      "source": [
        "!pip install huggingface_hub"
      ],
      "metadata": {
        "colab": {
          "base_uri": "https://localhost:8080/"
        },
        "id": "7EOov7M1uRiX",
        "outputId": "08bb6ab8-0b2f-4a69-82a7-e9670c383a21"
      },
      "id": "7EOov7M1uRiX",
      "execution_count": null,
      "outputs": [
        {
          "output_type": "stream",
          "name": "stdout",
          "text": [
            "Looking in indexes: https://pypi.org/simple, https://us-python.pkg.dev/colab-wheels/public/simple/\n",
            "Requirement already satisfied: huggingface_hub in /usr/local/lib/python3.8/dist-packages (0.11.1)\n",
            "Requirement already satisfied: typing-extensions>=3.7.4.3 in /usr/local/lib/python3.8/dist-packages (from huggingface_hub) (4.1.1)\n",
            "Requirement already satisfied: filelock in /usr/local/lib/python3.8/dist-packages (from huggingface_hub) (3.8.0)\n",
            "Requirement already satisfied: packaging>=20.9 in /usr/local/lib/python3.8/dist-packages (from huggingface_hub) (21.3)\n",
            "Requirement already satisfied: requests in /usr/local/lib/python3.8/dist-packages (from huggingface_hub) (2.23.0)\n",
            "Requirement already satisfied: tqdm in /usr/local/lib/python3.8/dist-packages (from huggingface_hub) (4.64.1)\n",
            "Requirement already satisfied: pyyaml>=5.1 in /usr/local/lib/python3.8/dist-packages (from huggingface_hub) (6.0)\n",
            "Requirement already satisfied: pyparsing!=3.0.5,>=2.0.2 in /usr/local/lib/python3.8/dist-packages (from packaging>=20.9->huggingface_hub) (3.0.9)\n",
            "Requirement already satisfied: certifi>=2017.4.17 in /usr/local/lib/python3.8/dist-packages (from requests->huggingface_hub) (2022.9.24)\n",
            "Requirement already satisfied: idna<3,>=2.5 in /usr/local/lib/python3.8/dist-packages (from requests->huggingface_hub) (2.10)\n",
            "Requirement already satisfied: chardet<4,>=3.0.2 in /usr/local/lib/python3.8/dist-packages (from requests->huggingface_hub) (3.0.4)\n",
            "Requirement already satisfied: urllib3!=1.25.0,!=1.25.1,<1.26,>=1.21.1 in /usr/local/lib/python3.8/dist-packages (from requests->huggingface_hub) (1.25.11)\n"
          ]
        }
      ]
    },
    {
      "cell_type": "code",
      "source": [
        "from huggingface_hub import login"
      ],
      "metadata": {
        "id": "onu08GP7uXKz"
      },
      "id": "onu08GP7uXKz",
      "execution_count": null,
      "outputs": []
    },
    {
      "cell_type": "code",
      "source": [
        "login(\"\")"
      ],
      "metadata": {
        "id": "2Z6iNYSNuaqU"
      },
      "id": "2Z6iNYSNuaqU",
      "execution_count": null,
      "outputs": []
    },
    {
      "cell_type": "code",
      "source": [
        "data.push_to_hub(\"arbml/\", private = True)"
      ],
      "metadata": {
        "id": "Cw58ZDz_uEKR"
      },
      "id": "Cw58ZDz_uEKR",
      "execution_count": null,
      "outputs": []
    }
  ],
  "metadata": {
    "kernelspec": {
      "display_name": "Python 3 (ipykernel)",
      "language": "python",
      "name": "python3"
    },
    "language_info": {
      "codemirror_mode": {
        "name": "ipython",
        "version": 3
      },
      "file_extension": ".py",
      "mimetype": "text/x-python",
      "name": "python",
      "nbconvert_exporter": "python",
      "pygments_lexer": "ipython3",
      "version": "3.8.9"
    },
    "colab": {
      "provenance": [],
      "include_colab_link": true
    },
    "gpuClass": "standard",
    "widgets": {
      "application/vnd.jupyter.widget-state+json": {
        "ecd1fafdbbaa48b2bb708d36ee316613": {
          "model_module": "@jupyter-widgets/controls",
          "model_name": "VBoxModel",
          "model_module_version": "1.5.0",
          "state": {
            "_dom_classes": [],
            "_model_module": "@jupyter-widgets/controls",
            "_model_module_version": "1.5.0",
            "_model_name": "VBoxModel",
            "_view_count": null,
            "_view_module": "@jupyter-widgets/controls",
            "_view_module_version": "1.5.0",
            "_view_name": "VBoxView",
            "box_style": "",
            "children": [
              "IPY_MODEL_30db8b43e9e046e9b8a680483348615c",
              "IPY_MODEL_7650766fa0354b9aa5a14871c3a70ac7",
              "IPY_MODEL_d5e739597af5450eaaba353d3952ff99",
              "IPY_MODEL_b959df8e316445b9a9e072b1bcda7a8e",
              "IPY_MODEL_c3aceddfe7ec49218a191a40e28708f6"
            ],
            "layout": "IPY_MODEL_2001159ce5684840b0260bceb5807b08"
          }
        },
        "30db8b43e9e046e9b8a680483348615c": {
          "model_module": "@jupyter-widgets/controls",
          "model_name": "HTMLModel",
          "model_module_version": "1.5.0",
          "state": {
            "_dom_classes": [],
            "_model_module": "@jupyter-widgets/controls",
            "_model_module_version": "1.5.0",
            "_model_name": "HTMLModel",
            "_view_count": null,
            "_view_module": "@jupyter-widgets/controls",
            "_view_module_version": "1.5.0",
            "_view_name": "HTMLView",
            "description": "",
            "description_tooltip": null,
            "layout": "IPY_MODEL_b7a48d17c78c42f9aa3db507c196e634",
            "placeholder": "​",
            "style": "IPY_MODEL_1f6a9613bf5541fc9e85affb5a5842ce",
            "value": "<center> <img\nsrc=https://huggingface.co/front/assets/huggingface_logo-noborder.svg\nalt='Hugging Face'> <br> Copy a token from <a\nhref=\"https://huggingface.co/settings/tokens\" target=\"_blank\">your Hugging Face\ntokens page</a> and paste it below. <br> Immediately click login after copying\nyour token or it might be stored in plain text in this notebook file. </center>"
          }
        },
        "7650766fa0354b9aa5a14871c3a70ac7": {
          "model_module": "@jupyter-widgets/controls",
          "model_name": "PasswordModel",
          "model_module_version": "1.5.0",
          "state": {
            "_dom_classes": [],
            "_model_module": "@jupyter-widgets/controls",
            "_model_module_version": "1.5.0",
            "_model_name": "PasswordModel",
            "_view_count": null,
            "_view_module": "@jupyter-widgets/controls",
            "_view_module_version": "1.5.0",
            "_view_name": "PasswordView",
            "continuous_update": true,
            "description": "Token:",
            "description_tooltip": null,
            "disabled": false,
            "layout": "IPY_MODEL_fa7065b4088e457da9de559cbb148da7",
            "placeholder": "​",
            "style": "IPY_MODEL_4b0393c54514492b9030a56f6a497ffa",
            "value": ""
          }
        },
        "d5e739597af5450eaaba353d3952ff99": {
          "model_module": "@jupyter-widgets/controls",
          "model_name": "CheckboxModel",
          "model_module_version": "1.5.0",
          "state": {
            "_dom_classes": [],
            "_model_module": "@jupyter-widgets/controls",
            "_model_module_version": "1.5.0",
            "_model_name": "CheckboxModel",
            "_view_count": null,
            "_view_module": "@jupyter-widgets/controls",
            "_view_module_version": "1.5.0",
            "_view_name": "CheckboxView",
            "description": "Add token as git credential?",
            "description_tooltip": null,
            "disabled": false,
            "indent": true,
            "layout": "IPY_MODEL_a6c7ff0296864decad1f461afabb6eed",
            "style": "IPY_MODEL_84e346c895b4467e907848a40d1dd562",
            "value": true
          }
        },
        "b959df8e316445b9a9e072b1bcda7a8e": {
          "model_module": "@jupyter-widgets/controls",
          "model_name": "ButtonModel",
          "model_module_version": "1.5.0",
          "state": {
            "_dom_classes": [],
            "_model_module": "@jupyter-widgets/controls",
            "_model_module_version": "1.5.0",
            "_model_name": "ButtonModel",
            "_view_count": null,
            "_view_module": "@jupyter-widgets/controls",
            "_view_module_version": "1.5.0",
            "_view_name": "ButtonView",
            "button_style": "",
            "description": "Login",
            "disabled": false,
            "icon": "",
            "layout": "IPY_MODEL_7bb056c695754e7b937aa9a13859467e",
            "style": "IPY_MODEL_1d7a6804c04643ec8178b82a0e552251",
            "tooltip": ""
          }
        },
        "c3aceddfe7ec49218a191a40e28708f6": {
          "model_module": "@jupyter-widgets/controls",
          "model_name": "HTMLModel",
          "model_module_version": "1.5.0",
          "state": {
            "_dom_classes": [],
            "_model_module": "@jupyter-widgets/controls",
            "_model_module_version": "1.5.0",
            "_model_name": "HTMLModel",
            "_view_count": null,
            "_view_module": "@jupyter-widgets/controls",
            "_view_module_version": "1.5.0",
            "_view_name": "HTMLView",
            "description": "",
            "description_tooltip": null,
            "layout": "IPY_MODEL_38f57df838b34a9a98087391407fa68f",
            "placeholder": "​",
            "style": "IPY_MODEL_336afc782e4848cf8a40109b8994b548",
            "value": "\n<b>Pro Tip:</b> If you don't already have one, you can create a dedicated\n'notebooks' token with 'write' access, that you can then easily reuse for all\nnotebooks. </center>"
          }
        },
        "2001159ce5684840b0260bceb5807b08": {
          "model_module": "@jupyter-widgets/base",
          "model_name": "LayoutModel",
          "model_module_version": "1.2.0",
          "state": {
            "_model_module": "@jupyter-widgets/base",
            "_model_module_version": "1.2.0",
            "_model_name": "LayoutModel",
            "_view_count": null,
            "_view_module": "@jupyter-widgets/base",
            "_view_module_version": "1.2.0",
            "_view_name": "LayoutView",
            "align_content": null,
            "align_items": "center",
            "align_self": null,
            "border": null,
            "bottom": null,
            "display": "flex",
            "flex": null,
            "flex_flow": "column",
            "grid_area": null,
            "grid_auto_columns": null,
            "grid_auto_flow": null,
            "grid_auto_rows": null,
            "grid_column": null,
            "grid_gap": null,
            "grid_row": null,
            "grid_template_areas": null,
            "grid_template_columns": null,
            "grid_template_rows": null,
            "height": null,
            "justify_content": null,
            "justify_items": null,
            "left": null,
            "margin": null,
            "max_height": null,
            "max_width": null,
            "min_height": null,
            "min_width": null,
            "object_fit": null,
            "object_position": null,
            "order": null,
            "overflow": null,
            "overflow_x": null,
            "overflow_y": null,
            "padding": null,
            "right": null,
            "top": null,
            "visibility": null,
            "width": "50%"
          }
        },
        "b7a48d17c78c42f9aa3db507c196e634": {
          "model_module": "@jupyter-widgets/base",
          "model_name": "LayoutModel",
          "model_module_version": "1.2.0",
          "state": {
            "_model_module": "@jupyter-widgets/base",
            "_model_module_version": "1.2.0",
            "_model_name": "LayoutModel",
            "_view_count": null,
            "_view_module": "@jupyter-widgets/base",
            "_view_module_version": "1.2.0",
            "_view_name": "LayoutView",
            "align_content": null,
            "align_items": null,
            "align_self": null,
            "border": null,
            "bottom": null,
            "display": null,
            "flex": null,
            "flex_flow": null,
            "grid_area": null,
            "grid_auto_columns": null,
            "grid_auto_flow": null,
            "grid_auto_rows": null,
            "grid_column": null,
            "grid_gap": null,
            "grid_row": null,
            "grid_template_areas": null,
            "grid_template_columns": null,
            "grid_template_rows": null,
            "height": null,
            "justify_content": null,
            "justify_items": null,
            "left": null,
            "margin": null,
            "max_height": null,
            "max_width": null,
            "min_height": null,
            "min_width": null,
            "object_fit": null,
            "object_position": null,
            "order": null,
            "overflow": null,
            "overflow_x": null,
            "overflow_y": null,
            "padding": null,
            "right": null,
            "top": null,
            "visibility": null,
            "width": null
          }
        },
        "1f6a9613bf5541fc9e85affb5a5842ce": {
          "model_module": "@jupyter-widgets/controls",
          "model_name": "DescriptionStyleModel",
          "model_module_version": "1.5.0",
          "state": {
            "_model_module": "@jupyter-widgets/controls",
            "_model_module_version": "1.5.0",
            "_model_name": "DescriptionStyleModel",
            "_view_count": null,
            "_view_module": "@jupyter-widgets/base",
            "_view_module_version": "1.2.0",
            "_view_name": "StyleView",
            "description_width": ""
          }
        },
        "fa7065b4088e457da9de559cbb148da7": {
          "model_module": "@jupyter-widgets/base",
          "model_name": "LayoutModel",
          "model_module_version": "1.2.0",
          "state": {
            "_model_module": "@jupyter-widgets/base",
            "_model_module_version": "1.2.0",
            "_model_name": "LayoutModel",
            "_view_count": null,
            "_view_module": "@jupyter-widgets/base",
            "_view_module_version": "1.2.0",
            "_view_name": "LayoutView",
            "align_content": null,
            "align_items": null,
            "align_self": null,
            "border": null,
            "bottom": null,
            "display": null,
            "flex": null,
            "flex_flow": null,
            "grid_area": null,
            "grid_auto_columns": null,
            "grid_auto_flow": null,
            "grid_auto_rows": null,
            "grid_column": null,
            "grid_gap": null,
            "grid_row": null,
            "grid_template_areas": null,
            "grid_template_columns": null,
            "grid_template_rows": null,
            "height": null,
            "justify_content": null,
            "justify_items": null,
            "left": null,
            "margin": null,
            "max_height": null,
            "max_width": null,
            "min_height": null,
            "min_width": null,
            "object_fit": null,
            "object_position": null,
            "order": null,
            "overflow": null,
            "overflow_x": null,
            "overflow_y": null,
            "padding": null,
            "right": null,
            "top": null,
            "visibility": null,
            "width": null
          }
        },
        "4b0393c54514492b9030a56f6a497ffa": {
          "model_module": "@jupyter-widgets/controls",
          "model_name": "DescriptionStyleModel",
          "model_module_version": "1.5.0",
          "state": {
            "_model_module": "@jupyter-widgets/controls",
            "_model_module_version": "1.5.0",
            "_model_name": "DescriptionStyleModel",
            "_view_count": null,
            "_view_module": "@jupyter-widgets/base",
            "_view_module_version": "1.2.0",
            "_view_name": "StyleView",
            "description_width": ""
          }
        },
        "a6c7ff0296864decad1f461afabb6eed": {
          "model_module": "@jupyter-widgets/base",
          "model_name": "LayoutModel",
          "model_module_version": "1.2.0",
          "state": {
            "_model_module": "@jupyter-widgets/base",
            "_model_module_version": "1.2.0",
            "_model_name": "LayoutModel",
            "_view_count": null,
            "_view_module": "@jupyter-widgets/base",
            "_view_module_version": "1.2.0",
            "_view_name": "LayoutView",
            "align_content": null,
            "align_items": null,
            "align_self": null,
            "border": null,
            "bottom": null,
            "display": null,
            "flex": null,
            "flex_flow": null,
            "grid_area": null,
            "grid_auto_columns": null,
            "grid_auto_flow": null,
            "grid_auto_rows": null,
            "grid_column": null,
            "grid_gap": null,
            "grid_row": null,
            "grid_template_areas": null,
            "grid_template_columns": null,
            "grid_template_rows": null,
            "height": null,
            "justify_content": null,
            "justify_items": null,
            "left": null,
            "margin": null,
            "max_height": null,
            "max_width": null,
            "min_height": null,
            "min_width": null,
            "object_fit": null,
            "object_position": null,
            "order": null,
            "overflow": null,
            "overflow_x": null,
            "overflow_y": null,
            "padding": null,
            "right": null,
            "top": null,
            "visibility": null,
            "width": null
          }
        },
        "84e346c895b4467e907848a40d1dd562": {
          "model_module": "@jupyter-widgets/controls",
          "model_name": "DescriptionStyleModel",
          "model_module_version": "1.5.0",
          "state": {
            "_model_module": "@jupyter-widgets/controls",
            "_model_module_version": "1.5.0",
            "_model_name": "DescriptionStyleModel",
            "_view_count": null,
            "_view_module": "@jupyter-widgets/base",
            "_view_module_version": "1.2.0",
            "_view_name": "StyleView",
            "description_width": ""
          }
        },
        "7bb056c695754e7b937aa9a13859467e": {
          "model_module": "@jupyter-widgets/base",
          "model_name": "LayoutModel",
          "model_module_version": "1.2.0",
          "state": {
            "_model_module": "@jupyter-widgets/base",
            "_model_module_version": "1.2.0",
            "_model_name": "LayoutModel",
            "_view_count": null,
            "_view_module": "@jupyter-widgets/base",
            "_view_module_version": "1.2.0",
            "_view_name": "LayoutView",
            "align_content": null,
            "align_items": null,
            "align_self": null,
            "border": null,
            "bottom": null,
            "display": null,
            "flex": null,
            "flex_flow": null,
            "grid_area": null,
            "grid_auto_columns": null,
            "grid_auto_flow": null,
            "grid_auto_rows": null,
            "grid_column": null,
            "grid_gap": null,
            "grid_row": null,
            "grid_template_areas": null,
            "grid_template_columns": null,
            "grid_template_rows": null,
            "height": null,
            "justify_content": null,
            "justify_items": null,
            "left": null,
            "margin": null,
            "max_height": null,
            "max_width": null,
            "min_height": null,
            "min_width": null,
            "object_fit": null,
            "object_position": null,
            "order": null,
            "overflow": null,
            "overflow_x": null,
            "overflow_y": null,
            "padding": null,
            "right": null,
            "top": null,
            "visibility": null,
            "width": null
          }
        },
        "1d7a6804c04643ec8178b82a0e552251": {
          "model_module": "@jupyter-widgets/controls",
          "model_name": "ButtonStyleModel",
          "model_module_version": "1.5.0",
          "state": {
            "_model_module": "@jupyter-widgets/controls",
            "_model_module_version": "1.5.0",
            "_model_name": "ButtonStyleModel",
            "_view_count": null,
            "_view_module": "@jupyter-widgets/base",
            "_view_module_version": "1.2.0",
            "_view_name": "StyleView",
            "button_color": null,
            "font_weight": ""
          }
        },
        "38f57df838b34a9a98087391407fa68f": {
          "model_module": "@jupyter-widgets/base",
          "model_name": "LayoutModel",
          "model_module_version": "1.2.0",
          "state": {
            "_model_module": "@jupyter-widgets/base",
            "_model_module_version": "1.2.0",
            "_model_name": "LayoutModel",
            "_view_count": null,
            "_view_module": "@jupyter-widgets/base",
            "_view_module_version": "1.2.0",
            "_view_name": "LayoutView",
            "align_content": null,
            "align_items": null,
            "align_self": null,
            "border": null,
            "bottom": null,
            "display": null,
            "flex": null,
            "flex_flow": null,
            "grid_area": null,
            "grid_auto_columns": null,
            "grid_auto_flow": null,
            "grid_auto_rows": null,
            "grid_column": null,
            "grid_gap": null,
            "grid_row": null,
            "grid_template_areas": null,
            "grid_template_columns": null,
            "grid_template_rows": null,
            "height": null,
            "justify_content": null,
            "justify_items": null,
            "left": null,
            "margin": null,
            "max_height": null,
            "max_width": null,
            "min_height": null,
            "min_width": null,
            "object_fit": null,
            "object_position": null,
            "order": null,
            "overflow": null,
            "overflow_x": null,
            "overflow_y": null,
            "padding": null,
            "right": null,
            "top": null,
            "visibility": null,
            "width": null
          }
        },
        "336afc782e4848cf8a40109b8994b548": {
          "model_module": "@jupyter-widgets/controls",
          "model_name": "DescriptionStyleModel",
          "model_module_version": "1.5.0",
          "state": {
            "_model_module": "@jupyter-widgets/controls",
            "_model_module_version": "1.5.0",
            "_model_name": "DescriptionStyleModel",
            "_view_count": null,
            "_view_module": "@jupyter-widgets/base",
            "_view_module_version": "1.2.0",
            "_view_name": "StyleView",
            "description_width": ""
          }
        },
        "3d5be71727814da2b5e684fb37cd590e": {
          "model_module": "@jupyter-widgets/controls",
          "model_name": "HBoxModel",
          "model_module_version": "1.5.0",
          "state": {
            "_dom_classes": [],
            "_model_module": "@jupyter-widgets/controls",
            "_model_module_version": "1.5.0",
            "_model_name": "HBoxModel",
            "_view_count": null,
            "_view_module": "@jupyter-widgets/controls",
            "_view_module_version": "1.5.0",
            "_view_name": "HBoxView",
            "box_style": "",
            "children": [
              "IPY_MODEL_5f9cceea26c04f7fbd8eb53cf9b25c46",
              "IPY_MODEL_a820b1a8dece44caa962eaadd20c2252",
              "IPY_MODEL_48e1d0f4c32045f4a4881f49b3959532"
            ],
            "layout": "IPY_MODEL_d4250ac1be66455ba7fd9495aca47747"
          }
        },
        "5f9cceea26c04f7fbd8eb53cf9b25c46": {
          "model_module": "@jupyter-widgets/controls",
          "model_name": "HTMLModel",
          "model_module_version": "1.5.0",
          "state": {
            "_dom_classes": [],
            "_model_module": "@jupyter-widgets/controls",
            "_model_module_version": "1.5.0",
            "_model_name": "HTMLModel",
            "_view_count": null,
            "_view_module": "@jupyter-widgets/controls",
            "_view_module_version": "1.5.0",
            "_view_name": "HTMLView",
            "description": "",
            "description_tooltip": null,
            "layout": "IPY_MODEL_4ec1717271e644c8bf609652b7286046",
            "placeholder": "​",
            "style": "IPY_MODEL_2fc713f52bba4b6d8ff129bf818d5ceb",
            "value": "Downloading builder script: 100%"
          }
        },
        "a820b1a8dece44caa962eaadd20c2252": {
          "model_module": "@jupyter-widgets/controls",
          "model_name": "FloatProgressModel",
          "model_module_version": "1.5.0",
          "state": {
            "_dom_classes": [],
            "_model_module": "@jupyter-widgets/controls",
            "_model_module_version": "1.5.0",
            "_model_name": "FloatProgressModel",
            "_view_count": null,
            "_view_module": "@jupyter-widgets/controls",
            "_view_module_version": "1.5.0",
            "_view_name": "ProgressView",
            "bar_style": "success",
            "description": "",
            "description_tooltip": null,
            "layout": "IPY_MODEL_3fb638569ac54b7aa27b9154a6bb1d5a",
            "max": 5325,
            "min": 0,
            "orientation": "horizontal",
            "style": "IPY_MODEL_dc515068f8ce4b23afb115b81424633d",
            "value": 5325
          }
        },
        "48e1d0f4c32045f4a4881f49b3959532": {
          "model_module": "@jupyter-widgets/controls",
          "model_name": "HTMLModel",
          "model_module_version": "1.5.0",
          "state": {
            "_dom_classes": [],
            "_model_module": "@jupyter-widgets/controls",
            "_model_module_version": "1.5.0",
            "_model_name": "HTMLModel",
            "_view_count": null,
            "_view_module": "@jupyter-widgets/controls",
            "_view_module_version": "1.5.0",
            "_view_name": "HTMLView",
            "description": "",
            "description_tooltip": null,
            "layout": "IPY_MODEL_1e4e30985c134b858eec0187a27ae5e0",
            "placeholder": "​",
            "style": "IPY_MODEL_68bb1a08b1e44a16a01bd175d5e2535e",
            "value": " 5.33k/5.33k [00:00&lt;00:00, 93.7kB/s]"
          }
        },
        "d4250ac1be66455ba7fd9495aca47747": {
          "model_module": "@jupyter-widgets/base",
          "model_name": "LayoutModel",
          "model_module_version": "1.2.0",
          "state": {
            "_model_module": "@jupyter-widgets/base",
            "_model_module_version": "1.2.0",
            "_model_name": "LayoutModel",
            "_view_count": null,
            "_view_module": "@jupyter-widgets/base",
            "_view_module_version": "1.2.0",
            "_view_name": "LayoutView",
            "align_content": null,
            "align_items": null,
            "align_self": null,
            "border": null,
            "bottom": null,
            "display": null,
            "flex": null,
            "flex_flow": null,
            "grid_area": null,
            "grid_auto_columns": null,
            "grid_auto_flow": null,
            "grid_auto_rows": null,
            "grid_column": null,
            "grid_gap": null,
            "grid_row": null,
            "grid_template_areas": null,
            "grid_template_columns": null,
            "grid_template_rows": null,
            "height": null,
            "justify_content": null,
            "justify_items": null,
            "left": null,
            "margin": null,
            "max_height": null,
            "max_width": null,
            "min_height": null,
            "min_width": null,
            "object_fit": null,
            "object_position": null,
            "order": null,
            "overflow": null,
            "overflow_x": null,
            "overflow_y": null,
            "padding": null,
            "right": null,
            "top": null,
            "visibility": null,
            "width": null
          }
        },
        "4ec1717271e644c8bf609652b7286046": {
          "model_module": "@jupyter-widgets/base",
          "model_name": "LayoutModel",
          "model_module_version": "1.2.0",
          "state": {
            "_model_module": "@jupyter-widgets/base",
            "_model_module_version": "1.2.0",
            "_model_name": "LayoutModel",
            "_view_count": null,
            "_view_module": "@jupyter-widgets/base",
            "_view_module_version": "1.2.0",
            "_view_name": "LayoutView",
            "align_content": null,
            "align_items": null,
            "align_self": null,
            "border": null,
            "bottom": null,
            "display": null,
            "flex": null,
            "flex_flow": null,
            "grid_area": null,
            "grid_auto_columns": null,
            "grid_auto_flow": null,
            "grid_auto_rows": null,
            "grid_column": null,
            "grid_gap": null,
            "grid_row": null,
            "grid_template_areas": null,
            "grid_template_columns": null,
            "grid_template_rows": null,
            "height": null,
            "justify_content": null,
            "justify_items": null,
            "left": null,
            "margin": null,
            "max_height": null,
            "max_width": null,
            "min_height": null,
            "min_width": null,
            "object_fit": null,
            "object_position": null,
            "order": null,
            "overflow": null,
            "overflow_x": null,
            "overflow_y": null,
            "padding": null,
            "right": null,
            "top": null,
            "visibility": null,
            "width": null
          }
        },
        "2fc713f52bba4b6d8ff129bf818d5ceb": {
          "model_module": "@jupyter-widgets/controls",
          "model_name": "DescriptionStyleModel",
          "model_module_version": "1.5.0",
          "state": {
            "_model_module": "@jupyter-widgets/controls",
            "_model_module_version": "1.5.0",
            "_model_name": "DescriptionStyleModel",
            "_view_count": null,
            "_view_module": "@jupyter-widgets/base",
            "_view_module_version": "1.2.0",
            "_view_name": "StyleView",
            "description_width": ""
          }
        },
        "3fb638569ac54b7aa27b9154a6bb1d5a": {
          "model_module": "@jupyter-widgets/base",
          "model_name": "LayoutModel",
          "model_module_version": "1.2.0",
          "state": {
            "_model_module": "@jupyter-widgets/base",
            "_model_module_version": "1.2.0",
            "_model_name": "LayoutModel",
            "_view_count": null,
            "_view_module": "@jupyter-widgets/base",
            "_view_module_version": "1.2.0",
            "_view_name": "LayoutView",
            "align_content": null,
            "align_items": null,
            "align_self": null,
            "border": null,
            "bottom": null,
            "display": null,
            "flex": null,
            "flex_flow": null,
            "grid_area": null,
            "grid_auto_columns": null,
            "grid_auto_flow": null,
            "grid_auto_rows": null,
            "grid_column": null,
            "grid_gap": null,
            "grid_row": null,
            "grid_template_areas": null,
            "grid_template_columns": null,
            "grid_template_rows": null,
            "height": null,
            "justify_content": null,
            "justify_items": null,
            "left": null,
            "margin": null,
            "max_height": null,
            "max_width": null,
            "min_height": null,
            "min_width": null,
            "object_fit": null,
            "object_position": null,
            "order": null,
            "overflow": null,
            "overflow_x": null,
            "overflow_y": null,
            "padding": null,
            "right": null,
            "top": null,
            "visibility": null,
            "width": null
          }
        },
        "dc515068f8ce4b23afb115b81424633d": {
          "model_module": "@jupyter-widgets/controls",
          "model_name": "ProgressStyleModel",
          "model_module_version": "1.5.0",
          "state": {
            "_model_module": "@jupyter-widgets/controls",
            "_model_module_version": "1.5.0",
            "_model_name": "ProgressStyleModel",
            "_view_count": null,
            "_view_module": "@jupyter-widgets/base",
            "_view_module_version": "1.2.0",
            "_view_name": "StyleView",
            "bar_color": null,
            "description_width": ""
          }
        },
        "1e4e30985c134b858eec0187a27ae5e0": {
          "model_module": "@jupyter-widgets/base",
          "model_name": "LayoutModel",
          "model_module_version": "1.2.0",
          "state": {
            "_model_module": "@jupyter-widgets/base",
            "_model_module_version": "1.2.0",
            "_model_name": "LayoutModel",
            "_view_count": null,
            "_view_module": "@jupyter-widgets/base",
            "_view_module_version": "1.2.0",
            "_view_name": "LayoutView",
            "align_content": null,
            "align_items": null,
            "align_self": null,
            "border": null,
            "bottom": null,
            "display": null,
            "flex": null,
            "flex_flow": null,
            "grid_area": null,
            "grid_auto_columns": null,
            "grid_auto_flow": null,
            "grid_auto_rows": null,
            "grid_column": null,
            "grid_gap": null,
            "grid_row": null,
            "grid_template_areas": null,
            "grid_template_columns": null,
            "grid_template_rows": null,
            "height": null,
            "justify_content": null,
            "justify_items": null,
            "left": null,
            "margin": null,
            "max_height": null,
            "max_width": null,
            "min_height": null,
            "min_width": null,
            "object_fit": null,
            "object_position": null,
            "order": null,
            "overflow": null,
            "overflow_x": null,
            "overflow_y": null,
            "padding": null,
            "right": null,
            "top": null,
            "visibility": null,
            "width": null
          }
        },
        "68bb1a08b1e44a16a01bd175d5e2535e": {
          "model_module": "@jupyter-widgets/controls",
          "model_name": "DescriptionStyleModel",
          "model_module_version": "1.5.0",
          "state": {
            "_model_module": "@jupyter-widgets/controls",
            "_model_module_version": "1.5.0",
            "_model_name": "DescriptionStyleModel",
            "_view_count": null,
            "_view_module": "@jupyter-widgets/base",
            "_view_module_version": "1.2.0",
            "_view_name": "StyleView",
            "description_width": ""
          }
        },
        "d21fc602c1c6491798fc4642250ef055": {
          "model_module": "@jupyter-widgets/controls",
          "model_name": "HBoxModel",
          "model_module_version": "1.5.0",
          "state": {
            "_dom_classes": [],
            "_model_module": "@jupyter-widgets/controls",
            "_model_module_version": "1.5.0",
            "_model_name": "HBoxModel",
            "_view_count": null,
            "_view_module": "@jupyter-widgets/controls",
            "_view_module_version": "1.5.0",
            "_view_name": "HBoxView",
            "box_style": "",
            "children": [
              "IPY_MODEL_33408b1340544be3b65e488730013de5",
              "IPY_MODEL_109f4ef2d2e949fd80f50910f8bac3ee",
              "IPY_MODEL_240f27a78da24e1aacf8d1b86cb98b0a"
            ],
            "layout": "IPY_MODEL_47a5ac0fe7dd4977a4a5d164238a24ff"
          }
        },
        "33408b1340544be3b65e488730013de5": {
          "model_module": "@jupyter-widgets/controls",
          "model_name": "HTMLModel",
          "model_module_version": "1.5.0",
          "state": {
            "_dom_classes": [],
            "_model_module": "@jupyter-widgets/controls",
            "_model_module_version": "1.5.0",
            "_model_name": "HTMLModel",
            "_view_count": null,
            "_view_module": "@jupyter-widgets/controls",
            "_view_module_version": "1.5.0",
            "_view_name": "HTMLView",
            "description": "",
            "description_tooltip": null,
            "layout": "IPY_MODEL_ae5a0b8ecc3f4c9aadcb9dc2bf0ea2c0",
            "placeholder": "​",
            "style": "IPY_MODEL_363a84b179c649fda9d565d3e4a12244",
            "value": "Downloading metadata: 100%"
          }
        },
        "109f4ef2d2e949fd80f50910f8bac3ee": {
          "model_module": "@jupyter-widgets/controls",
          "model_name": "FloatProgressModel",
          "model_module_version": "1.5.0",
          "state": {
            "_dom_classes": [],
            "_model_module": "@jupyter-widgets/controls",
            "_model_module_version": "1.5.0",
            "_model_name": "FloatProgressModel",
            "_view_count": null,
            "_view_module": "@jupyter-widgets/controls",
            "_view_module_version": "1.5.0",
            "_view_name": "ProgressView",
            "bar_style": "success",
            "description": "",
            "description_tooltip": null,
            "layout": "IPY_MODEL_2722f09e691a4e409077e48cc6593805",
            "max": 2380,
            "min": 0,
            "orientation": "horizontal",
            "style": "IPY_MODEL_bfa907c5abbf47a5b4c93314df84bde1",
            "value": 2380
          }
        },
        "240f27a78da24e1aacf8d1b86cb98b0a": {
          "model_module": "@jupyter-widgets/controls",
          "model_name": "HTMLModel",
          "model_module_version": "1.5.0",
          "state": {
            "_dom_classes": [],
            "_model_module": "@jupyter-widgets/controls",
            "_model_module_version": "1.5.0",
            "_model_name": "HTMLModel",
            "_view_count": null,
            "_view_module": "@jupyter-widgets/controls",
            "_view_module_version": "1.5.0",
            "_view_name": "HTMLView",
            "description": "",
            "description_tooltip": null,
            "layout": "IPY_MODEL_adc5268e504642b38a5fc5098dd628f1",
            "placeholder": "​",
            "style": "IPY_MODEL_f5dabc419fbb4f9493f852759cb6809d",
            "value": " 2.38k/2.38k [00:00&lt;00:00, 45.3kB/s]"
          }
        },
        "47a5ac0fe7dd4977a4a5d164238a24ff": {
          "model_module": "@jupyter-widgets/base",
          "model_name": "LayoutModel",
          "model_module_version": "1.2.0",
          "state": {
            "_model_module": "@jupyter-widgets/base",
            "_model_module_version": "1.2.0",
            "_model_name": "LayoutModel",
            "_view_count": null,
            "_view_module": "@jupyter-widgets/base",
            "_view_module_version": "1.2.0",
            "_view_name": "LayoutView",
            "align_content": null,
            "align_items": null,
            "align_self": null,
            "border": null,
            "bottom": null,
            "display": null,
            "flex": null,
            "flex_flow": null,
            "grid_area": null,
            "grid_auto_columns": null,
            "grid_auto_flow": null,
            "grid_auto_rows": null,
            "grid_column": null,
            "grid_gap": null,
            "grid_row": null,
            "grid_template_areas": null,
            "grid_template_columns": null,
            "grid_template_rows": null,
            "height": null,
            "justify_content": null,
            "justify_items": null,
            "left": null,
            "margin": null,
            "max_height": null,
            "max_width": null,
            "min_height": null,
            "min_width": null,
            "object_fit": null,
            "object_position": null,
            "order": null,
            "overflow": null,
            "overflow_x": null,
            "overflow_y": null,
            "padding": null,
            "right": null,
            "top": null,
            "visibility": null,
            "width": null
          }
        },
        "ae5a0b8ecc3f4c9aadcb9dc2bf0ea2c0": {
          "model_module": "@jupyter-widgets/base",
          "model_name": "LayoutModel",
          "model_module_version": "1.2.0",
          "state": {
            "_model_module": "@jupyter-widgets/base",
            "_model_module_version": "1.2.0",
            "_model_name": "LayoutModel",
            "_view_count": null,
            "_view_module": "@jupyter-widgets/base",
            "_view_module_version": "1.2.0",
            "_view_name": "LayoutView",
            "align_content": null,
            "align_items": null,
            "align_self": null,
            "border": null,
            "bottom": null,
            "display": null,
            "flex": null,
            "flex_flow": null,
            "grid_area": null,
            "grid_auto_columns": null,
            "grid_auto_flow": null,
            "grid_auto_rows": null,
            "grid_column": null,
            "grid_gap": null,
            "grid_row": null,
            "grid_template_areas": null,
            "grid_template_columns": null,
            "grid_template_rows": null,
            "height": null,
            "justify_content": null,
            "justify_items": null,
            "left": null,
            "margin": null,
            "max_height": null,
            "max_width": null,
            "min_height": null,
            "min_width": null,
            "object_fit": null,
            "object_position": null,
            "order": null,
            "overflow": null,
            "overflow_x": null,
            "overflow_y": null,
            "padding": null,
            "right": null,
            "top": null,
            "visibility": null,
            "width": null
          }
        },
        "363a84b179c649fda9d565d3e4a12244": {
          "model_module": "@jupyter-widgets/controls",
          "model_name": "DescriptionStyleModel",
          "model_module_version": "1.5.0",
          "state": {
            "_model_module": "@jupyter-widgets/controls",
            "_model_module_version": "1.5.0",
            "_model_name": "DescriptionStyleModel",
            "_view_count": null,
            "_view_module": "@jupyter-widgets/base",
            "_view_module_version": "1.2.0",
            "_view_name": "StyleView",
            "description_width": ""
          }
        },
        "2722f09e691a4e409077e48cc6593805": {
          "model_module": "@jupyter-widgets/base",
          "model_name": "LayoutModel",
          "model_module_version": "1.2.0",
          "state": {
            "_model_module": "@jupyter-widgets/base",
            "_model_module_version": "1.2.0",
            "_model_name": "LayoutModel",
            "_view_count": null,
            "_view_module": "@jupyter-widgets/base",
            "_view_module_version": "1.2.0",
            "_view_name": "LayoutView",
            "align_content": null,
            "align_items": null,
            "align_self": null,
            "border": null,
            "bottom": null,
            "display": null,
            "flex": null,
            "flex_flow": null,
            "grid_area": null,
            "grid_auto_columns": null,
            "grid_auto_flow": null,
            "grid_auto_rows": null,
            "grid_column": null,
            "grid_gap": null,
            "grid_row": null,
            "grid_template_areas": null,
            "grid_template_columns": null,
            "grid_template_rows": null,
            "height": null,
            "justify_content": null,
            "justify_items": null,
            "left": null,
            "margin": null,
            "max_height": null,
            "max_width": null,
            "min_height": null,
            "min_width": null,
            "object_fit": null,
            "object_position": null,
            "order": null,
            "overflow": null,
            "overflow_x": null,
            "overflow_y": null,
            "padding": null,
            "right": null,
            "top": null,
            "visibility": null,
            "width": null
          }
        },
        "bfa907c5abbf47a5b4c93314df84bde1": {
          "model_module": "@jupyter-widgets/controls",
          "model_name": "ProgressStyleModel",
          "model_module_version": "1.5.0",
          "state": {
            "_model_module": "@jupyter-widgets/controls",
            "_model_module_version": "1.5.0",
            "_model_name": "ProgressStyleModel",
            "_view_count": null,
            "_view_module": "@jupyter-widgets/base",
            "_view_module_version": "1.2.0",
            "_view_name": "StyleView",
            "bar_color": null,
            "description_width": ""
          }
        },
        "adc5268e504642b38a5fc5098dd628f1": {
          "model_module": "@jupyter-widgets/base",
          "model_name": "LayoutModel",
          "model_module_version": "1.2.0",
          "state": {
            "_model_module": "@jupyter-widgets/base",
            "_model_module_version": "1.2.0",
            "_model_name": "LayoutModel",
            "_view_count": null,
            "_view_module": "@jupyter-widgets/base",
            "_view_module_version": "1.2.0",
            "_view_name": "LayoutView",
            "align_content": null,
            "align_items": null,
            "align_self": null,
            "border": null,
            "bottom": null,
            "display": null,
            "flex": null,
            "flex_flow": null,
            "grid_area": null,
            "grid_auto_columns": null,
            "grid_auto_flow": null,
            "grid_auto_rows": null,
            "grid_column": null,
            "grid_gap": null,
            "grid_row": null,
            "grid_template_areas": null,
            "grid_template_columns": null,
            "grid_template_rows": null,
            "height": null,
            "justify_content": null,
            "justify_items": null,
            "left": null,
            "margin": null,
            "max_height": null,
            "max_width": null,
            "min_height": null,
            "min_width": null,
            "object_fit": null,
            "object_position": null,
            "order": null,
            "overflow": null,
            "overflow_x": null,
            "overflow_y": null,
            "padding": null,
            "right": null,
            "top": null,
            "visibility": null,
            "width": null
          }
        },
        "f5dabc419fbb4f9493f852759cb6809d": {
          "model_module": "@jupyter-widgets/controls",
          "model_name": "DescriptionStyleModel",
          "model_module_version": "1.5.0",
          "state": {
            "_model_module": "@jupyter-widgets/controls",
            "_model_module_version": "1.5.0",
            "_model_name": "DescriptionStyleModel",
            "_view_count": null,
            "_view_module": "@jupyter-widgets/base",
            "_view_module_version": "1.2.0",
            "_view_name": "StyleView",
            "description_width": ""
          }
        },
        "46ee94b1508745bd936ce71ede1b2ff3": {
          "model_module": "@jupyter-widgets/controls",
          "model_name": "HBoxModel",
          "model_module_version": "1.5.0",
          "state": {
            "_dom_classes": [],
            "_model_module": "@jupyter-widgets/controls",
            "_model_module_version": "1.5.0",
            "_model_name": "HBoxModel",
            "_view_count": null,
            "_view_module": "@jupyter-widgets/controls",
            "_view_module_version": "1.5.0",
            "_view_name": "HBoxView",
            "box_style": "",
            "children": [
              "IPY_MODEL_0bc570ad9c5b42908173704a719ea47f",
              "IPY_MODEL_c7f4e86d80e04487be25d1e91ba6d4b7",
              "IPY_MODEL_8014480bb85544a19f4dc0d0307be7b8"
            ],
            "layout": "IPY_MODEL_9e05858cae8242569107abd83dd2a16a"
          }
        },
        "0bc570ad9c5b42908173704a719ea47f": {
          "model_module": "@jupyter-widgets/controls",
          "model_name": "HTMLModel",
          "model_module_version": "1.5.0",
          "state": {
            "_dom_classes": [],
            "_model_module": "@jupyter-widgets/controls",
            "_model_module_version": "1.5.0",
            "_model_name": "HTMLModel",
            "_view_count": null,
            "_view_module": "@jupyter-widgets/controls",
            "_view_module_version": "1.5.0",
            "_view_name": "HTMLView",
            "description": "",
            "description_tooltip": null,
            "layout": "IPY_MODEL_5f8077ae3b624999b5eb04f5c6b07219",
            "placeholder": "​",
            "style": "IPY_MODEL_392ba79f79354850a626f54350c9cd59",
            "value": "Downloading readme: 100%"
          }
        },
        "c7f4e86d80e04487be25d1e91ba6d4b7": {
          "model_module": "@jupyter-widgets/controls",
          "model_name": "FloatProgressModel",
          "model_module_version": "1.5.0",
          "state": {
            "_dom_classes": [],
            "_model_module": "@jupyter-widgets/controls",
            "_model_module_version": "1.5.0",
            "_model_name": "FloatProgressModel",
            "_view_count": null,
            "_view_module": "@jupyter-widgets/controls",
            "_view_module_version": "1.5.0",
            "_view_name": "ProgressView",
            "bar_style": "success",
            "description": "",
            "description_tooltip": null,
            "layout": "IPY_MODEL_3d7329f626894b06bc12779223d5a1c9",
            "max": 9622,
            "min": 0,
            "orientation": "horizontal",
            "style": "IPY_MODEL_822683323a654ff4ad13d71e3bc60625",
            "value": 9622
          }
        },
        "8014480bb85544a19f4dc0d0307be7b8": {
          "model_module": "@jupyter-widgets/controls",
          "model_name": "HTMLModel",
          "model_module_version": "1.5.0",
          "state": {
            "_dom_classes": [],
            "_model_module": "@jupyter-widgets/controls",
            "_model_module_version": "1.5.0",
            "_model_name": "HTMLModel",
            "_view_count": null,
            "_view_module": "@jupyter-widgets/controls",
            "_view_module_version": "1.5.0",
            "_view_name": "HTMLView",
            "description": "",
            "description_tooltip": null,
            "layout": "IPY_MODEL_9418b87450044334905d2d7a376076be",
            "placeholder": "​",
            "style": "IPY_MODEL_60585d51f42b4d9ba084b5aaeec9d23f",
            "value": " 9.62k/9.62k [00:00&lt;00:00, 175kB/s]"
          }
        },
        "9e05858cae8242569107abd83dd2a16a": {
          "model_module": "@jupyter-widgets/base",
          "model_name": "LayoutModel",
          "model_module_version": "1.2.0",
          "state": {
            "_model_module": "@jupyter-widgets/base",
            "_model_module_version": "1.2.0",
            "_model_name": "LayoutModel",
            "_view_count": null,
            "_view_module": "@jupyter-widgets/base",
            "_view_module_version": "1.2.0",
            "_view_name": "LayoutView",
            "align_content": null,
            "align_items": null,
            "align_self": null,
            "border": null,
            "bottom": null,
            "display": null,
            "flex": null,
            "flex_flow": null,
            "grid_area": null,
            "grid_auto_columns": null,
            "grid_auto_flow": null,
            "grid_auto_rows": null,
            "grid_column": null,
            "grid_gap": null,
            "grid_row": null,
            "grid_template_areas": null,
            "grid_template_columns": null,
            "grid_template_rows": null,
            "height": null,
            "justify_content": null,
            "justify_items": null,
            "left": null,
            "margin": null,
            "max_height": null,
            "max_width": null,
            "min_height": null,
            "min_width": null,
            "object_fit": null,
            "object_position": null,
            "order": null,
            "overflow": null,
            "overflow_x": null,
            "overflow_y": null,
            "padding": null,
            "right": null,
            "top": null,
            "visibility": null,
            "width": null
          }
        },
        "5f8077ae3b624999b5eb04f5c6b07219": {
          "model_module": "@jupyter-widgets/base",
          "model_name": "LayoutModel",
          "model_module_version": "1.2.0",
          "state": {
            "_model_module": "@jupyter-widgets/base",
            "_model_module_version": "1.2.0",
            "_model_name": "LayoutModel",
            "_view_count": null,
            "_view_module": "@jupyter-widgets/base",
            "_view_module_version": "1.2.0",
            "_view_name": "LayoutView",
            "align_content": null,
            "align_items": null,
            "align_self": null,
            "border": null,
            "bottom": null,
            "display": null,
            "flex": null,
            "flex_flow": null,
            "grid_area": null,
            "grid_auto_columns": null,
            "grid_auto_flow": null,
            "grid_auto_rows": null,
            "grid_column": null,
            "grid_gap": null,
            "grid_row": null,
            "grid_template_areas": null,
            "grid_template_columns": null,
            "grid_template_rows": null,
            "height": null,
            "justify_content": null,
            "justify_items": null,
            "left": null,
            "margin": null,
            "max_height": null,
            "max_width": null,
            "min_height": null,
            "min_width": null,
            "object_fit": null,
            "object_position": null,
            "order": null,
            "overflow": null,
            "overflow_x": null,
            "overflow_y": null,
            "padding": null,
            "right": null,
            "top": null,
            "visibility": null,
            "width": null
          }
        },
        "392ba79f79354850a626f54350c9cd59": {
          "model_module": "@jupyter-widgets/controls",
          "model_name": "DescriptionStyleModel",
          "model_module_version": "1.5.0",
          "state": {
            "_model_module": "@jupyter-widgets/controls",
            "_model_module_version": "1.5.0",
            "_model_name": "DescriptionStyleModel",
            "_view_count": null,
            "_view_module": "@jupyter-widgets/base",
            "_view_module_version": "1.2.0",
            "_view_name": "StyleView",
            "description_width": ""
          }
        },
        "3d7329f626894b06bc12779223d5a1c9": {
          "model_module": "@jupyter-widgets/base",
          "model_name": "LayoutModel",
          "model_module_version": "1.2.0",
          "state": {
            "_model_module": "@jupyter-widgets/base",
            "_model_module_version": "1.2.0",
            "_model_name": "LayoutModel",
            "_view_count": null,
            "_view_module": "@jupyter-widgets/base",
            "_view_module_version": "1.2.0",
            "_view_name": "LayoutView",
            "align_content": null,
            "align_items": null,
            "align_self": null,
            "border": null,
            "bottom": null,
            "display": null,
            "flex": null,
            "flex_flow": null,
            "grid_area": null,
            "grid_auto_columns": null,
            "grid_auto_flow": null,
            "grid_auto_rows": null,
            "grid_column": null,
            "grid_gap": null,
            "grid_row": null,
            "grid_template_areas": null,
            "grid_template_columns": null,
            "grid_template_rows": null,
            "height": null,
            "justify_content": null,
            "justify_items": null,
            "left": null,
            "margin": null,
            "max_height": null,
            "max_width": null,
            "min_height": null,
            "min_width": null,
            "object_fit": null,
            "object_position": null,
            "order": null,
            "overflow": null,
            "overflow_x": null,
            "overflow_y": null,
            "padding": null,
            "right": null,
            "top": null,
            "visibility": null,
            "width": null
          }
        },
        "822683323a654ff4ad13d71e3bc60625": {
          "model_module": "@jupyter-widgets/controls",
          "model_name": "ProgressStyleModel",
          "model_module_version": "1.5.0",
          "state": {
            "_model_module": "@jupyter-widgets/controls",
            "_model_module_version": "1.5.0",
            "_model_name": "ProgressStyleModel",
            "_view_count": null,
            "_view_module": "@jupyter-widgets/base",
            "_view_module_version": "1.2.0",
            "_view_name": "StyleView",
            "bar_color": null,
            "description_width": ""
          }
        },
        "9418b87450044334905d2d7a376076be": {
          "model_module": "@jupyter-widgets/base",
          "model_name": "LayoutModel",
          "model_module_version": "1.2.0",
          "state": {
            "_model_module": "@jupyter-widgets/base",
            "_model_module_version": "1.2.0",
            "_model_name": "LayoutModel",
            "_view_count": null,
            "_view_module": "@jupyter-widgets/base",
            "_view_module_version": "1.2.0",
            "_view_name": "LayoutView",
            "align_content": null,
            "align_items": null,
            "align_self": null,
            "border": null,
            "bottom": null,
            "display": null,
            "flex": null,
            "flex_flow": null,
            "grid_area": null,
            "grid_auto_columns": null,
            "grid_auto_flow": null,
            "grid_auto_rows": null,
            "grid_column": null,
            "grid_gap": null,
            "grid_row": null,
            "grid_template_areas": null,
            "grid_template_columns": null,
            "grid_template_rows": null,
            "height": null,
            "justify_content": null,
            "justify_items": null,
            "left": null,
            "margin": null,
            "max_height": null,
            "max_width": null,
            "min_height": null,
            "min_width": null,
            "object_fit": null,
            "object_position": null,
            "order": null,
            "overflow": null,
            "overflow_x": null,
            "overflow_y": null,
            "padding": null,
            "right": null,
            "top": null,
            "visibility": null,
            "width": null
          }
        },
        "60585d51f42b4d9ba084b5aaeec9d23f": {
          "model_module": "@jupyter-widgets/controls",
          "model_name": "DescriptionStyleModel",
          "model_module_version": "1.5.0",
          "state": {
            "_model_module": "@jupyter-widgets/controls",
            "_model_module_version": "1.5.0",
            "_model_name": "DescriptionStyleModel",
            "_view_count": null,
            "_view_module": "@jupyter-widgets/base",
            "_view_module_version": "1.2.0",
            "_view_name": "StyleView",
            "description_width": ""
          }
        },
        "39de38d5c8d54d0cb7bb9f0cd100f93e": {
          "model_module": "@jupyter-widgets/controls",
          "model_name": "HBoxModel",
          "model_module_version": "1.5.0",
          "state": {
            "_dom_classes": [],
            "_model_module": "@jupyter-widgets/controls",
            "_model_module_version": "1.5.0",
            "_model_name": "HBoxModel",
            "_view_count": null,
            "_view_module": "@jupyter-widgets/controls",
            "_view_module_version": "1.5.0",
            "_view_name": "HBoxView",
            "box_style": "",
            "children": [
              "IPY_MODEL_9713dd11c34144b6871ac8e6f482ddf2",
              "IPY_MODEL_8893332a0a30482fa05d23d5dbdb1314",
              "IPY_MODEL_94696b4ba4d24bd0b94b807cb23b9f95"
            ],
            "layout": "IPY_MODEL_587a76780e8842cb96ae783b6c90c494"
          }
        },
        "9713dd11c34144b6871ac8e6f482ddf2": {
          "model_module": "@jupyter-widgets/controls",
          "model_name": "HTMLModel",
          "model_module_version": "1.5.0",
          "state": {
            "_dom_classes": [],
            "_model_module": "@jupyter-widgets/controls",
            "_model_module_version": "1.5.0",
            "_model_name": "HTMLModel",
            "_view_count": null,
            "_view_module": "@jupyter-widgets/controls",
            "_view_module_version": "1.5.0",
            "_view_name": "HTMLView",
            "description": "",
            "description_tooltip": null,
            "layout": "IPY_MODEL_35b8d04547f04780909ce67c90e1ca87",
            "placeholder": "​",
            "style": "IPY_MODEL_02c8f2e1c06d409facbef853b073e8ef",
            "value": "Downloading data: 100%"
          }
        },
        "8893332a0a30482fa05d23d5dbdb1314": {
          "model_module": "@jupyter-widgets/controls",
          "model_name": "FloatProgressModel",
          "model_module_version": "1.5.0",
          "state": {
            "_dom_classes": [],
            "_model_module": "@jupyter-widgets/controls",
            "_model_module_version": "1.5.0",
            "_model_name": "FloatProgressModel",
            "_view_count": null,
            "_view_module": "@jupyter-widgets/controls",
            "_view_module_version": "1.5.0",
            "_view_name": "ProgressView",
            "bar_style": "success",
            "description": "",
            "description_tooltip": null,
            "layout": "IPY_MODEL_f6615ce4574e443aa8fcfee9003aad04",
            "max": 1192302846,
            "min": 0,
            "orientation": "horizontal",
            "style": "IPY_MODEL_64db43c4f33b46d1843c4da1436e4de2",
            "value": 1192302846
          }
        },
        "94696b4ba4d24bd0b94b807cb23b9f95": {
          "model_module": "@jupyter-widgets/controls",
          "model_name": "HTMLModel",
          "model_module_version": "1.5.0",
          "state": {
            "_dom_classes": [],
            "_model_module": "@jupyter-widgets/controls",
            "_model_module_version": "1.5.0",
            "_model_name": "HTMLModel",
            "_view_count": null,
            "_view_module": "@jupyter-widgets/controls",
            "_view_module_version": "1.5.0",
            "_view_name": "HTMLView",
            "description": "",
            "description_tooltip": null,
            "layout": "IPY_MODEL_fe2592291eac4bc9b23e0f9cc73881f9",
            "placeholder": "​",
            "style": "IPY_MODEL_43ca11db5fbd465cb00fc43a40fbaf6e",
            "value": " 1.19G/1.19G [00:40&lt;00:00, 30.8MB/s]"
          }
        },
        "587a76780e8842cb96ae783b6c90c494": {
          "model_module": "@jupyter-widgets/base",
          "model_name": "LayoutModel",
          "model_module_version": "1.2.0",
          "state": {
            "_model_module": "@jupyter-widgets/base",
            "_model_module_version": "1.2.0",
            "_model_name": "LayoutModel",
            "_view_count": null,
            "_view_module": "@jupyter-widgets/base",
            "_view_module_version": "1.2.0",
            "_view_name": "LayoutView",
            "align_content": null,
            "align_items": null,
            "align_self": null,
            "border": null,
            "bottom": null,
            "display": null,
            "flex": null,
            "flex_flow": null,
            "grid_area": null,
            "grid_auto_columns": null,
            "grid_auto_flow": null,
            "grid_auto_rows": null,
            "grid_column": null,
            "grid_gap": null,
            "grid_row": null,
            "grid_template_areas": null,
            "grid_template_columns": null,
            "grid_template_rows": null,
            "height": null,
            "justify_content": null,
            "justify_items": null,
            "left": null,
            "margin": null,
            "max_height": null,
            "max_width": null,
            "min_height": null,
            "min_width": null,
            "object_fit": null,
            "object_position": null,
            "order": null,
            "overflow": null,
            "overflow_x": null,
            "overflow_y": null,
            "padding": null,
            "right": null,
            "top": null,
            "visibility": null,
            "width": null
          }
        },
        "35b8d04547f04780909ce67c90e1ca87": {
          "model_module": "@jupyter-widgets/base",
          "model_name": "LayoutModel",
          "model_module_version": "1.2.0",
          "state": {
            "_model_module": "@jupyter-widgets/base",
            "_model_module_version": "1.2.0",
            "_model_name": "LayoutModel",
            "_view_count": null,
            "_view_module": "@jupyter-widgets/base",
            "_view_module_version": "1.2.0",
            "_view_name": "LayoutView",
            "align_content": null,
            "align_items": null,
            "align_self": null,
            "border": null,
            "bottom": null,
            "display": null,
            "flex": null,
            "flex_flow": null,
            "grid_area": null,
            "grid_auto_columns": null,
            "grid_auto_flow": null,
            "grid_auto_rows": null,
            "grid_column": null,
            "grid_gap": null,
            "grid_row": null,
            "grid_template_areas": null,
            "grid_template_columns": null,
            "grid_template_rows": null,
            "height": null,
            "justify_content": null,
            "justify_items": null,
            "left": null,
            "margin": null,
            "max_height": null,
            "max_width": null,
            "min_height": null,
            "min_width": null,
            "object_fit": null,
            "object_position": null,
            "order": null,
            "overflow": null,
            "overflow_x": null,
            "overflow_y": null,
            "padding": null,
            "right": null,
            "top": null,
            "visibility": null,
            "width": null
          }
        },
        "02c8f2e1c06d409facbef853b073e8ef": {
          "model_module": "@jupyter-widgets/controls",
          "model_name": "DescriptionStyleModel",
          "model_module_version": "1.5.0",
          "state": {
            "_model_module": "@jupyter-widgets/controls",
            "_model_module_version": "1.5.0",
            "_model_name": "DescriptionStyleModel",
            "_view_count": null,
            "_view_module": "@jupyter-widgets/base",
            "_view_module_version": "1.2.0",
            "_view_name": "StyleView",
            "description_width": ""
          }
        },
        "f6615ce4574e443aa8fcfee9003aad04": {
          "model_module": "@jupyter-widgets/base",
          "model_name": "LayoutModel",
          "model_module_version": "1.2.0",
          "state": {
            "_model_module": "@jupyter-widgets/base",
            "_model_module_version": "1.2.0",
            "_model_name": "LayoutModel",
            "_view_count": null,
            "_view_module": "@jupyter-widgets/base",
            "_view_module_version": "1.2.0",
            "_view_name": "LayoutView",
            "align_content": null,
            "align_items": null,
            "align_self": null,
            "border": null,
            "bottom": null,
            "display": null,
            "flex": null,
            "flex_flow": null,
            "grid_area": null,
            "grid_auto_columns": null,
            "grid_auto_flow": null,
            "grid_auto_rows": null,
            "grid_column": null,
            "grid_gap": null,
            "grid_row": null,
            "grid_template_areas": null,
            "grid_template_columns": null,
            "grid_template_rows": null,
            "height": null,
            "justify_content": null,
            "justify_items": null,
            "left": null,
            "margin": null,
            "max_height": null,
            "max_width": null,
            "min_height": null,
            "min_width": null,
            "object_fit": null,
            "object_position": null,
            "order": null,
            "overflow": null,
            "overflow_x": null,
            "overflow_y": null,
            "padding": null,
            "right": null,
            "top": null,
            "visibility": null,
            "width": null
          }
        },
        "64db43c4f33b46d1843c4da1436e4de2": {
          "model_module": "@jupyter-widgets/controls",
          "model_name": "ProgressStyleModel",
          "model_module_version": "1.5.0",
          "state": {
            "_model_module": "@jupyter-widgets/controls",
            "_model_module_version": "1.5.0",
            "_model_name": "ProgressStyleModel",
            "_view_count": null,
            "_view_module": "@jupyter-widgets/base",
            "_view_module_version": "1.2.0",
            "_view_name": "StyleView",
            "bar_color": null,
            "description_width": ""
          }
        },
        "fe2592291eac4bc9b23e0f9cc73881f9": {
          "model_module": "@jupyter-widgets/base",
          "model_name": "LayoutModel",
          "model_module_version": "1.2.0",
          "state": {
            "_model_module": "@jupyter-widgets/base",
            "_model_module_version": "1.2.0",
            "_model_name": "LayoutModel",
            "_view_count": null,
            "_view_module": "@jupyter-widgets/base",
            "_view_module_version": "1.2.0",
            "_view_name": "LayoutView",
            "align_content": null,
            "align_items": null,
            "align_self": null,
            "border": null,
            "bottom": null,
            "display": null,
            "flex": null,
            "flex_flow": null,
            "grid_area": null,
            "grid_auto_columns": null,
            "grid_auto_flow": null,
            "grid_auto_rows": null,
            "grid_column": null,
            "grid_gap": null,
            "grid_row": null,
            "grid_template_areas": null,
            "grid_template_columns": null,
            "grid_template_rows": null,
            "height": null,
            "justify_content": null,
            "justify_items": null,
            "left": null,
            "margin": null,
            "max_height": null,
            "max_width": null,
            "min_height": null,
            "min_width": null,
            "object_fit": null,
            "object_position": null,
            "order": null,
            "overflow": null,
            "overflow_x": null,
            "overflow_y": null,
            "padding": null,
            "right": null,
            "top": null,
            "visibility": null,
            "width": null
          }
        },
        "43ca11db5fbd465cb00fc43a40fbaf6e": {
          "model_module": "@jupyter-widgets/controls",
          "model_name": "DescriptionStyleModel",
          "model_module_version": "1.5.0",
          "state": {
            "_model_module": "@jupyter-widgets/controls",
            "_model_module_version": "1.5.0",
            "_model_name": "DescriptionStyleModel",
            "_view_count": null,
            "_view_module": "@jupyter-widgets/base",
            "_view_module_version": "1.2.0",
            "_view_name": "StyleView",
            "description_width": ""
          }
        },
        "d8062d0873354f5fb0bd483e4f540c78": {
          "model_module": "@jupyter-widgets/controls",
          "model_name": "HBoxModel",
          "model_module_version": "1.5.0",
          "state": {
            "_dom_classes": [],
            "_model_module": "@jupyter-widgets/controls",
            "_model_module_version": "1.5.0",
            "_model_name": "HBoxModel",
            "_view_count": null,
            "_view_module": "@jupyter-widgets/controls",
            "_view_module_version": "1.5.0",
            "_view_name": "HBoxView",
            "box_style": "",
            "children": [
              "IPY_MODEL_ddd19d03d8cf4968acfb16e934618b13",
              "IPY_MODEL_5a560d37065940c390a58c26b9758f7a",
              "IPY_MODEL_5378fd5ca1584f2a96cea6bc779d009b"
            ],
            "layout": "IPY_MODEL_3f6cd28f318640eeb6c2f688724dbafe"
          }
        },
        "ddd19d03d8cf4968acfb16e934618b13": {
          "model_module": "@jupyter-widgets/controls",
          "model_name": "HTMLModel",
          "model_module_version": "1.5.0",
          "state": {
            "_dom_classes": [],
            "_model_module": "@jupyter-widgets/controls",
            "_model_module_version": "1.5.0",
            "_model_name": "HTMLModel",
            "_view_count": null,
            "_view_module": "@jupyter-widgets/controls",
            "_view_module_version": "1.5.0",
            "_view_name": "HTMLView",
            "description": "",
            "description_tooltip": null,
            "layout": "IPY_MODEL_c2024e94d8a04f599c86d5e56ba36781",
            "placeholder": "​",
            "style": "IPY_MODEL_cfb5693f8a6e4ab29e256b3db8775977",
            "value": "Generating train split: 100%"
          }
        },
        "5a560d37065940c390a58c26b9758f7a": {
          "model_module": "@jupyter-widgets/controls",
          "model_name": "FloatProgressModel",
          "model_module_version": "1.5.0",
          "state": {
            "_dom_classes": [],
            "_model_module": "@jupyter-widgets/controls",
            "_model_module_version": "1.5.0",
            "_model_name": "FloatProgressModel",
            "_view_count": null,
            "_view_module": "@jupyter-widgets/controls",
            "_view_module_version": "1.5.0",
            "_view_name": "ProgressView",
            "bar_style": "",
            "description": "",
            "description_tooltip": null,
            "layout": "IPY_MODEL_9beb721689864c29ad27c7edeafe4b5d",
            "max": 1813,
            "min": 0,
            "orientation": "horizontal",
            "style": "IPY_MODEL_ab7fc7c716f94758a46846a39b22f68f",
            "value": 1813
          }
        },
        "5378fd5ca1584f2a96cea6bc779d009b": {
          "model_module": "@jupyter-widgets/controls",
          "model_name": "HTMLModel",
          "model_module_version": "1.5.0",
          "state": {
            "_dom_classes": [],
            "_model_module": "@jupyter-widgets/controls",
            "_model_module_version": "1.5.0",
            "_model_name": "HTMLModel",
            "_view_count": null,
            "_view_module": "@jupyter-widgets/controls",
            "_view_module_version": "1.5.0",
            "_view_name": "HTMLView",
            "description": "",
            "description_tooltip": null,
            "layout": "IPY_MODEL_13e024527a4a478f984c8575c950c53f",
            "placeholder": "​",
            "style": "IPY_MODEL_d79745a43dcd4ac0a99237152eb62fb2",
            "value": " 1813/1813 [00:19&lt;00:00, 3130.97 examples/s]"
          }
        },
        "3f6cd28f318640eeb6c2f688724dbafe": {
          "model_module": "@jupyter-widgets/base",
          "model_name": "LayoutModel",
          "model_module_version": "1.2.0",
          "state": {
            "_model_module": "@jupyter-widgets/base",
            "_model_module_version": "1.2.0",
            "_model_name": "LayoutModel",
            "_view_count": null,
            "_view_module": "@jupyter-widgets/base",
            "_view_module_version": "1.2.0",
            "_view_name": "LayoutView",
            "align_content": null,
            "align_items": null,
            "align_self": null,
            "border": null,
            "bottom": null,
            "display": null,
            "flex": null,
            "flex_flow": null,
            "grid_area": null,
            "grid_auto_columns": null,
            "grid_auto_flow": null,
            "grid_auto_rows": null,
            "grid_column": null,
            "grid_gap": null,
            "grid_row": null,
            "grid_template_areas": null,
            "grid_template_columns": null,
            "grid_template_rows": null,
            "height": null,
            "justify_content": null,
            "justify_items": null,
            "left": null,
            "margin": null,
            "max_height": null,
            "max_width": null,
            "min_height": null,
            "min_width": null,
            "object_fit": null,
            "object_position": null,
            "order": null,
            "overflow": null,
            "overflow_x": null,
            "overflow_y": null,
            "padding": null,
            "right": null,
            "top": null,
            "visibility": "hidden",
            "width": null
          }
        },
        "c2024e94d8a04f599c86d5e56ba36781": {
          "model_module": "@jupyter-widgets/base",
          "model_name": "LayoutModel",
          "model_module_version": "1.2.0",
          "state": {
            "_model_module": "@jupyter-widgets/base",
            "_model_module_version": "1.2.0",
            "_model_name": "LayoutModel",
            "_view_count": null,
            "_view_module": "@jupyter-widgets/base",
            "_view_module_version": "1.2.0",
            "_view_name": "LayoutView",
            "align_content": null,
            "align_items": null,
            "align_self": null,
            "border": null,
            "bottom": null,
            "display": null,
            "flex": null,
            "flex_flow": null,
            "grid_area": null,
            "grid_auto_columns": null,
            "grid_auto_flow": null,
            "grid_auto_rows": null,
            "grid_column": null,
            "grid_gap": null,
            "grid_row": null,
            "grid_template_areas": null,
            "grid_template_columns": null,
            "grid_template_rows": null,
            "height": null,
            "justify_content": null,
            "justify_items": null,
            "left": null,
            "margin": null,
            "max_height": null,
            "max_width": null,
            "min_height": null,
            "min_width": null,
            "object_fit": null,
            "object_position": null,
            "order": null,
            "overflow": null,
            "overflow_x": null,
            "overflow_y": null,
            "padding": null,
            "right": null,
            "top": null,
            "visibility": null,
            "width": null
          }
        },
        "cfb5693f8a6e4ab29e256b3db8775977": {
          "model_module": "@jupyter-widgets/controls",
          "model_name": "DescriptionStyleModel",
          "model_module_version": "1.5.0",
          "state": {
            "_model_module": "@jupyter-widgets/controls",
            "_model_module_version": "1.5.0",
            "_model_name": "DescriptionStyleModel",
            "_view_count": null,
            "_view_module": "@jupyter-widgets/base",
            "_view_module_version": "1.2.0",
            "_view_name": "StyleView",
            "description_width": ""
          }
        },
        "9beb721689864c29ad27c7edeafe4b5d": {
          "model_module": "@jupyter-widgets/base",
          "model_name": "LayoutModel",
          "model_module_version": "1.2.0",
          "state": {
            "_model_module": "@jupyter-widgets/base",
            "_model_module_version": "1.2.0",
            "_model_name": "LayoutModel",
            "_view_count": null,
            "_view_module": "@jupyter-widgets/base",
            "_view_module_version": "1.2.0",
            "_view_name": "LayoutView",
            "align_content": null,
            "align_items": null,
            "align_self": null,
            "border": null,
            "bottom": null,
            "display": null,
            "flex": null,
            "flex_flow": null,
            "grid_area": null,
            "grid_auto_columns": null,
            "grid_auto_flow": null,
            "grid_auto_rows": null,
            "grid_column": null,
            "grid_gap": null,
            "grid_row": null,
            "grid_template_areas": null,
            "grid_template_columns": null,
            "grid_template_rows": null,
            "height": null,
            "justify_content": null,
            "justify_items": null,
            "left": null,
            "margin": null,
            "max_height": null,
            "max_width": null,
            "min_height": null,
            "min_width": null,
            "object_fit": null,
            "object_position": null,
            "order": null,
            "overflow": null,
            "overflow_x": null,
            "overflow_y": null,
            "padding": null,
            "right": null,
            "top": null,
            "visibility": null,
            "width": null
          }
        },
        "ab7fc7c716f94758a46846a39b22f68f": {
          "model_module": "@jupyter-widgets/controls",
          "model_name": "ProgressStyleModel",
          "model_module_version": "1.5.0",
          "state": {
            "_model_module": "@jupyter-widgets/controls",
            "_model_module_version": "1.5.0",
            "_model_name": "ProgressStyleModel",
            "_view_count": null,
            "_view_module": "@jupyter-widgets/base",
            "_view_module_version": "1.2.0",
            "_view_name": "StyleView",
            "bar_color": null,
            "description_width": ""
          }
        },
        "13e024527a4a478f984c8575c950c53f": {
          "model_module": "@jupyter-widgets/base",
          "model_name": "LayoutModel",
          "model_module_version": "1.2.0",
          "state": {
            "_model_module": "@jupyter-widgets/base",
            "_model_module_version": "1.2.0",
            "_model_name": "LayoutModel",
            "_view_count": null,
            "_view_module": "@jupyter-widgets/base",
            "_view_module_version": "1.2.0",
            "_view_name": "LayoutView",
            "align_content": null,
            "align_items": null,
            "align_self": null,
            "border": null,
            "bottom": null,
            "display": null,
            "flex": null,
            "flex_flow": null,
            "grid_area": null,
            "grid_auto_columns": null,
            "grid_auto_flow": null,
            "grid_auto_rows": null,
            "grid_column": null,
            "grid_gap": null,
            "grid_row": null,
            "grid_template_areas": null,
            "grid_template_columns": null,
            "grid_template_rows": null,
            "height": null,
            "justify_content": null,
            "justify_items": null,
            "left": null,
            "margin": null,
            "max_height": null,
            "max_width": null,
            "min_height": null,
            "min_width": null,
            "object_fit": null,
            "object_position": null,
            "order": null,
            "overflow": null,
            "overflow_x": null,
            "overflow_y": null,
            "padding": null,
            "right": null,
            "top": null,
            "visibility": null,
            "width": null
          }
        },
        "d79745a43dcd4ac0a99237152eb62fb2": {
          "model_module": "@jupyter-widgets/controls",
          "model_name": "DescriptionStyleModel",
          "model_module_version": "1.5.0",
          "state": {
            "_model_module": "@jupyter-widgets/controls",
            "_model_module_version": "1.5.0",
            "_model_name": "DescriptionStyleModel",
            "_view_count": null,
            "_view_module": "@jupyter-widgets/base",
            "_view_module_version": "1.2.0",
            "_view_name": "StyleView",
            "description_width": ""
          }
        },
        "59166ddc4c5a4e7dabd2abe04fed95fb": {
          "model_module": "@jupyter-widgets/controls",
          "model_name": "HBoxModel",
          "model_module_version": "1.5.0",
          "state": {
            "_dom_classes": [],
            "_model_module": "@jupyter-widgets/controls",
            "_model_module_version": "1.5.0",
            "_model_name": "HBoxModel",
            "_view_count": null,
            "_view_module": "@jupyter-widgets/controls",
            "_view_module_version": "1.5.0",
            "_view_name": "HBoxView",
            "box_style": "",
            "children": [
              "IPY_MODEL_3e5e658a459e44d78cdaf961407a4c9f",
              "IPY_MODEL_68db7aa39b534306b5573151b898393e",
              "IPY_MODEL_c2e2315871194d00ae04ed2e1127cef4"
            ],
            "layout": "IPY_MODEL_fbc4cc0229ce427c9285be64dfb8cfe1"
          }
        },
        "3e5e658a459e44d78cdaf961407a4c9f": {
          "model_module": "@jupyter-widgets/controls",
          "model_name": "HTMLModel",
          "model_module_version": "1.5.0",
          "state": {
            "_dom_classes": [],
            "_model_module": "@jupyter-widgets/controls",
            "_model_module_version": "1.5.0",
            "_model_name": "HTMLModel",
            "_view_count": null,
            "_view_module": "@jupyter-widgets/controls",
            "_view_module_version": "1.5.0",
            "_view_name": "HTMLView",
            "description": "",
            "description_tooltip": null,
            "layout": "IPY_MODEL_84b83349768446f4ba048092b1c47548",
            "placeholder": "​",
            "style": "IPY_MODEL_fe661692efae4645bf5e609c2c7819e4",
            "value": "Generating test split:   0%"
          }
        },
        "68db7aa39b534306b5573151b898393e": {
          "model_module": "@jupyter-widgets/controls",
          "model_name": "FloatProgressModel",
          "model_module_version": "1.5.0",
          "state": {
            "_dom_classes": [],
            "_model_module": "@jupyter-widgets/controls",
            "_model_module_version": "1.5.0",
            "_model_name": "FloatProgressModel",
            "_view_count": null,
            "_view_module": "@jupyter-widgets/controls",
            "_view_module_version": "1.5.0",
            "_view_name": "ProgressView",
            "bar_style": "",
            "description": "",
            "description_tooltip": null,
            "layout": "IPY_MODEL_611d0382af7b4fd5bf4ba97e0dd53780",
            "max": 100,
            "min": 0,
            "orientation": "horizontal",
            "style": "IPY_MODEL_e5a2af4d53094b37ba80a4475b0bc18b",
            "value": 100
          }
        },
        "c2e2315871194d00ae04ed2e1127cef4": {
          "model_module": "@jupyter-widgets/controls",
          "model_name": "HTMLModel",
          "model_module_version": "1.5.0",
          "state": {
            "_dom_classes": [],
            "_model_module": "@jupyter-widgets/controls",
            "_model_module_version": "1.5.0",
            "_model_name": "HTMLModel",
            "_view_count": null,
            "_view_module": "@jupyter-widgets/controls",
            "_view_module_version": "1.5.0",
            "_view_name": "HTMLView",
            "description": "",
            "description_tooltip": null,
            "layout": "IPY_MODEL_49341d9225774234a6b08f42716068dc",
            "placeholder": "​",
            "style": "IPY_MODEL_eb15a7b52e614f97945c01a152f5d302",
            "value": " 0/100 [00:00&lt;?, ? examples/s]"
          }
        },
        "fbc4cc0229ce427c9285be64dfb8cfe1": {
          "model_module": "@jupyter-widgets/base",
          "model_name": "LayoutModel",
          "model_module_version": "1.2.0",
          "state": {
            "_model_module": "@jupyter-widgets/base",
            "_model_module_version": "1.2.0",
            "_model_name": "LayoutModel",
            "_view_count": null,
            "_view_module": "@jupyter-widgets/base",
            "_view_module_version": "1.2.0",
            "_view_name": "LayoutView",
            "align_content": null,
            "align_items": null,
            "align_self": null,
            "border": null,
            "bottom": null,
            "display": null,
            "flex": null,
            "flex_flow": null,
            "grid_area": null,
            "grid_auto_columns": null,
            "grid_auto_flow": null,
            "grid_auto_rows": null,
            "grid_column": null,
            "grid_gap": null,
            "grid_row": null,
            "grid_template_areas": null,
            "grid_template_columns": null,
            "grid_template_rows": null,
            "height": null,
            "justify_content": null,
            "justify_items": null,
            "left": null,
            "margin": null,
            "max_height": null,
            "max_width": null,
            "min_height": null,
            "min_width": null,
            "object_fit": null,
            "object_position": null,
            "order": null,
            "overflow": null,
            "overflow_x": null,
            "overflow_y": null,
            "padding": null,
            "right": null,
            "top": null,
            "visibility": "hidden",
            "width": null
          }
        },
        "84b83349768446f4ba048092b1c47548": {
          "model_module": "@jupyter-widgets/base",
          "model_name": "LayoutModel",
          "model_module_version": "1.2.0",
          "state": {
            "_model_module": "@jupyter-widgets/base",
            "_model_module_version": "1.2.0",
            "_model_name": "LayoutModel",
            "_view_count": null,
            "_view_module": "@jupyter-widgets/base",
            "_view_module_version": "1.2.0",
            "_view_name": "LayoutView",
            "align_content": null,
            "align_items": null,
            "align_self": null,
            "border": null,
            "bottom": null,
            "display": null,
            "flex": null,
            "flex_flow": null,
            "grid_area": null,
            "grid_auto_columns": null,
            "grid_auto_flow": null,
            "grid_auto_rows": null,
            "grid_column": null,
            "grid_gap": null,
            "grid_row": null,
            "grid_template_areas": null,
            "grid_template_columns": null,
            "grid_template_rows": null,
            "height": null,
            "justify_content": null,
            "justify_items": null,
            "left": null,
            "margin": null,
            "max_height": null,
            "max_width": null,
            "min_height": null,
            "min_width": null,
            "object_fit": null,
            "object_position": null,
            "order": null,
            "overflow": null,
            "overflow_x": null,
            "overflow_y": null,
            "padding": null,
            "right": null,
            "top": null,
            "visibility": null,
            "width": null
          }
        },
        "fe661692efae4645bf5e609c2c7819e4": {
          "model_module": "@jupyter-widgets/controls",
          "model_name": "DescriptionStyleModel",
          "model_module_version": "1.5.0",
          "state": {
            "_model_module": "@jupyter-widgets/controls",
            "_model_module_version": "1.5.0",
            "_model_name": "DescriptionStyleModel",
            "_view_count": null,
            "_view_module": "@jupyter-widgets/base",
            "_view_module_version": "1.2.0",
            "_view_name": "StyleView",
            "description_width": ""
          }
        },
        "611d0382af7b4fd5bf4ba97e0dd53780": {
          "model_module": "@jupyter-widgets/base",
          "model_name": "LayoutModel",
          "model_module_version": "1.2.0",
          "state": {
            "_model_module": "@jupyter-widgets/base",
            "_model_module_version": "1.2.0",
            "_model_name": "LayoutModel",
            "_view_count": null,
            "_view_module": "@jupyter-widgets/base",
            "_view_module_version": "1.2.0",
            "_view_name": "LayoutView",
            "align_content": null,
            "align_items": null,
            "align_self": null,
            "border": null,
            "bottom": null,
            "display": null,
            "flex": null,
            "flex_flow": null,
            "grid_area": null,
            "grid_auto_columns": null,
            "grid_auto_flow": null,
            "grid_auto_rows": null,
            "grid_column": null,
            "grid_gap": null,
            "grid_row": null,
            "grid_template_areas": null,
            "grid_template_columns": null,
            "grid_template_rows": null,
            "height": null,
            "justify_content": null,
            "justify_items": null,
            "left": null,
            "margin": null,
            "max_height": null,
            "max_width": null,
            "min_height": null,
            "min_width": null,
            "object_fit": null,
            "object_position": null,
            "order": null,
            "overflow": null,
            "overflow_x": null,
            "overflow_y": null,
            "padding": null,
            "right": null,
            "top": null,
            "visibility": null,
            "width": null
          }
        },
        "e5a2af4d53094b37ba80a4475b0bc18b": {
          "model_module": "@jupyter-widgets/controls",
          "model_name": "ProgressStyleModel",
          "model_module_version": "1.5.0",
          "state": {
            "_model_module": "@jupyter-widgets/controls",
            "_model_module_version": "1.5.0",
            "_model_name": "ProgressStyleModel",
            "_view_count": null,
            "_view_module": "@jupyter-widgets/base",
            "_view_module_version": "1.2.0",
            "_view_name": "StyleView",
            "bar_color": null,
            "description_width": ""
          }
        },
        "49341d9225774234a6b08f42716068dc": {
          "model_module": "@jupyter-widgets/base",
          "model_name": "LayoutModel",
          "model_module_version": "1.2.0",
          "state": {
            "_model_module": "@jupyter-widgets/base",
            "_model_module_version": "1.2.0",
            "_model_name": "LayoutModel",
            "_view_count": null,
            "_view_module": "@jupyter-widgets/base",
            "_view_module_version": "1.2.0",
            "_view_name": "LayoutView",
            "align_content": null,
            "align_items": null,
            "align_self": null,
            "border": null,
            "bottom": null,
            "display": null,
            "flex": null,
            "flex_flow": null,
            "grid_area": null,
            "grid_auto_columns": null,
            "grid_auto_flow": null,
            "grid_auto_rows": null,
            "grid_column": null,
            "grid_gap": null,
            "grid_row": null,
            "grid_template_areas": null,
            "grid_template_columns": null,
            "grid_template_rows": null,
            "height": null,
            "justify_content": null,
            "justify_items": null,
            "left": null,
            "margin": null,
            "max_height": null,
            "max_width": null,
            "min_height": null,
            "min_width": null,
            "object_fit": null,
            "object_position": null,
            "order": null,
            "overflow": null,
            "overflow_x": null,
            "overflow_y": null,
            "padding": null,
            "right": null,
            "top": null,
            "visibility": null,
            "width": null
          }
        },
        "eb15a7b52e614f97945c01a152f5d302": {
          "model_module": "@jupyter-widgets/controls",
          "model_name": "DescriptionStyleModel",
          "model_module_version": "1.5.0",
          "state": {
            "_model_module": "@jupyter-widgets/controls",
            "_model_module_version": "1.5.0",
            "_model_name": "DescriptionStyleModel",
            "_view_count": null,
            "_view_module": "@jupyter-widgets/base",
            "_view_module_version": "1.2.0",
            "_view_name": "StyleView",
            "description_width": ""
          }
        },
        "32fc5a9e6a05404eaff1431691133be6": {
          "model_module": "@jupyter-widgets/controls",
          "model_name": "HBoxModel",
          "model_module_version": "1.5.0",
          "state": {
            "_dom_classes": [],
            "_model_module": "@jupyter-widgets/controls",
            "_model_module_version": "1.5.0",
            "_model_name": "HBoxModel",
            "_view_count": null,
            "_view_module": "@jupyter-widgets/controls",
            "_view_module_version": "1.5.0",
            "_view_name": "HBoxView",
            "box_style": "",
            "children": [
              "IPY_MODEL_d518524362854220b4a0883835612438",
              "IPY_MODEL_21297524c2d44e2582cd8d38a8d4ee73",
              "IPY_MODEL_5b93a2739b914e979e8b77f3526ff151"
            ],
            "layout": "IPY_MODEL_06d25f91f93a49a2909ab29b02dfda19"
          }
        },
        "d518524362854220b4a0883835612438": {
          "model_module": "@jupyter-widgets/controls",
          "model_name": "HTMLModel",
          "model_module_version": "1.5.0",
          "state": {
            "_dom_classes": [],
            "_model_module": "@jupyter-widgets/controls",
            "_model_module_version": "1.5.0",
            "_model_name": "HTMLModel",
            "_view_count": null,
            "_view_module": "@jupyter-widgets/controls",
            "_view_module_version": "1.5.0",
            "_view_name": "HTMLView",
            "description": "",
            "description_tooltip": null,
            "layout": "IPY_MODEL_440ec64b7e1d48faa8e89a31383b34ce",
            "placeholder": "​",
            "style": "IPY_MODEL_0d484cf97fee413fa596c65ed11e53c8",
            "value": "100%"
          }
        },
        "21297524c2d44e2582cd8d38a8d4ee73": {
          "model_module": "@jupyter-widgets/controls",
          "model_name": "FloatProgressModel",
          "model_module_version": "1.5.0",
          "state": {
            "_dom_classes": [],
            "_model_module": "@jupyter-widgets/controls",
            "_model_module_version": "1.5.0",
            "_model_name": "FloatProgressModel",
            "_view_count": null,
            "_view_module": "@jupyter-widgets/controls",
            "_view_module_version": "1.5.0",
            "_view_name": "ProgressView",
            "bar_style": "success",
            "description": "",
            "description_tooltip": null,
            "layout": "IPY_MODEL_93e193aed4de4af59973353d843300c6",
            "max": 2,
            "min": 0,
            "orientation": "horizontal",
            "style": "IPY_MODEL_008c9b16e51a456889823265fbf8ec38",
            "value": 2
          }
        },
        "5b93a2739b914e979e8b77f3526ff151": {
          "model_module": "@jupyter-widgets/controls",
          "model_name": "HTMLModel",
          "model_module_version": "1.5.0",
          "state": {
            "_dom_classes": [],
            "_model_module": "@jupyter-widgets/controls",
            "_model_module_version": "1.5.0",
            "_model_name": "HTMLModel",
            "_view_count": null,
            "_view_module": "@jupyter-widgets/controls",
            "_view_module_version": "1.5.0",
            "_view_name": "HTMLView",
            "description": "",
            "description_tooltip": null,
            "layout": "IPY_MODEL_0de2793357ea4c5cb746fd5686c9fb45",
            "placeholder": "​",
            "style": "IPY_MODEL_fa5ba7c0fe85475987682909c424daa8",
            "value": " 2/2 [00:00&lt;00:00, 39.68it/s]"
          }
        },
        "06d25f91f93a49a2909ab29b02dfda19": {
          "model_module": "@jupyter-widgets/base",
          "model_name": "LayoutModel",
          "model_module_version": "1.2.0",
          "state": {
            "_model_module": "@jupyter-widgets/base",
            "_model_module_version": "1.2.0",
            "_model_name": "LayoutModel",
            "_view_count": null,
            "_view_module": "@jupyter-widgets/base",
            "_view_module_version": "1.2.0",
            "_view_name": "LayoutView",
            "align_content": null,
            "align_items": null,
            "align_self": null,
            "border": null,
            "bottom": null,
            "display": null,
            "flex": null,
            "flex_flow": null,
            "grid_area": null,
            "grid_auto_columns": null,
            "grid_auto_flow": null,
            "grid_auto_rows": null,
            "grid_column": null,
            "grid_gap": null,
            "grid_row": null,
            "grid_template_areas": null,
            "grid_template_columns": null,
            "grid_template_rows": null,
            "height": null,
            "justify_content": null,
            "justify_items": null,
            "left": null,
            "margin": null,
            "max_height": null,
            "max_width": null,
            "min_height": null,
            "min_width": null,
            "object_fit": null,
            "object_position": null,
            "order": null,
            "overflow": null,
            "overflow_x": null,
            "overflow_y": null,
            "padding": null,
            "right": null,
            "top": null,
            "visibility": null,
            "width": null
          }
        },
        "440ec64b7e1d48faa8e89a31383b34ce": {
          "model_module": "@jupyter-widgets/base",
          "model_name": "LayoutModel",
          "model_module_version": "1.2.0",
          "state": {
            "_model_module": "@jupyter-widgets/base",
            "_model_module_version": "1.2.0",
            "_model_name": "LayoutModel",
            "_view_count": null,
            "_view_module": "@jupyter-widgets/base",
            "_view_module_version": "1.2.0",
            "_view_name": "LayoutView",
            "align_content": null,
            "align_items": null,
            "align_self": null,
            "border": null,
            "bottom": null,
            "display": null,
            "flex": null,
            "flex_flow": null,
            "grid_area": null,
            "grid_auto_columns": null,
            "grid_auto_flow": null,
            "grid_auto_rows": null,
            "grid_column": null,
            "grid_gap": null,
            "grid_row": null,
            "grid_template_areas": null,
            "grid_template_columns": null,
            "grid_template_rows": null,
            "height": null,
            "justify_content": null,
            "justify_items": null,
            "left": null,
            "margin": null,
            "max_height": null,
            "max_width": null,
            "min_height": null,
            "min_width": null,
            "object_fit": null,
            "object_position": null,
            "order": null,
            "overflow": null,
            "overflow_x": null,
            "overflow_y": null,
            "padding": null,
            "right": null,
            "top": null,
            "visibility": null,
            "width": null
          }
        },
        "0d484cf97fee413fa596c65ed11e53c8": {
          "model_module": "@jupyter-widgets/controls",
          "model_name": "DescriptionStyleModel",
          "model_module_version": "1.5.0",
          "state": {
            "_model_module": "@jupyter-widgets/controls",
            "_model_module_version": "1.5.0",
            "_model_name": "DescriptionStyleModel",
            "_view_count": null,
            "_view_module": "@jupyter-widgets/base",
            "_view_module_version": "1.2.0",
            "_view_name": "StyleView",
            "description_width": ""
          }
        },
        "93e193aed4de4af59973353d843300c6": {
          "model_module": "@jupyter-widgets/base",
          "model_name": "LayoutModel",
          "model_module_version": "1.2.0",
          "state": {
            "_model_module": "@jupyter-widgets/base",
            "_model_module_version": "1.2.0",
            "_model_name": "LayoutModel",
            "_view_count": null,
            "_view_module": "@jupyter-widgets/base",
            "_view_module_version": "1.2.0",
            "_view_name": "LayoutView",
            "align_content": null,
            "align_items": null,
            "align_self": null,
            "border": null,
            "bottom": null,
            "display": null,
            "flex": null,
            "flex_flow": null,
            "grid_area": null,
            "grid_auto_columns": null,
            "grid_auto_flow": null,
            "grid_auto_rows": null,
            "grid_column": null,
            "grid_gap": null,
            "grid_row": null,
            "grid_template_areas": null,
            "grid_template_columns": null,
            "grid_template_rows": null,
            "height": null,
            "justify_content": null,
            "justify_items": null,
            "left": null,
            "margin": null,
            "max_height": null,
            "max_width": null,
            "min_height": null,
            "min_width": null,
            "object_fit": null,
            "object_position": null,
            "order": null,
            "overflow": null,
            "overflow_x": null,
            "overflow_y": null,
            "padding": null,
            "right": null,
            "top": null,
            "visibility": null,
            "width": null
          }
        },
        "008c9b16e51a456889823265fbf8ec38": {
          "model_module": "@jupyter-widgets/controls",
          "model_name": "ProgressStyleModel",
          "model_module_version": "1.5.0",
          "state": {
            "_model_module": "@jupyter-widgets/controls",
            "_model_module_version": "1.5.0",
            "_model_name": "ProgressStyleModel",
            "_view_count": null,
            "_view_module": "@jupyter-widgets/base",
            "_view_module_version": "1.2.0",
            "_view_name": "StyleView",
            "bar_color": null,
            "description_width": ""
          }
        },
        "0de2793357ea4c5cb746fd5686c9fb45": {
          "model_module": "@jupyter-widgets/base",
          "model_name": "LayoutModel",
          "model_module_version": "1.2.0",
          "state": {
            "_model_module": "@jupyter-widgets/base",
            "_model_module_version": "1.2.0",
            "_model_name": "LayoutModel",
            "_view_count": null,
            "_view_module": "@jupyter-widgets/base",
            "_view_module_version": "1.2.0",
            "_view_name": "LayoutView",
            "align_content": null,
            "align_items": null,
            "align_self": null,
            "border": null,
            "bottom": null,
            "display": null,
            "flex": null,
            "flex_flow": null,
            "grid_area": null,
            "grid_auto_columns": null,
            "grid_auto_flow": null,
            "grid_auto_rows": null,
            "grid_column": null,
            "grid_gap": null,
            "grid_row": null,
            "grid_template_areas": null,
            "grid_template_columns": null,
            "grid_template_rows": null,
            "height": null,
            "justify_content": null,
            "justify_items": null,
            "left": null,
            "margin": null,
            "max_height": null,
            "max_width": null,
            "min_height": null,
            "min_width": null,
            "object_fit": null,
            "object_position": null,
            "order": null,
            "overflow": null,
            "overflow_x": null,
            "overflow_y": null,
            "padding": null,
            "right": null,
            "top": null,
            "visibility": null,
            "width": null
          }
        },
        "fa5ba7c0fe85475987682909c424daa8": {
          "model_module": "@jupyter-widgets/controls",
          "model_name": "DescriptionStyleModel",
          "model_module_version": "1.5.0",
          "state": {
            "_model_module": "@jupyter-widgets/controls",
            "_model_module_version": "1.5.0",
            "_model_name": "DescriptionStyleModel",
            "_view_count": null,
            "_view_module": "@jupyter-widgets/base",
            "_view_module_version": "1.2.0",
            "_view_name": "StyleView",
            "description_width": ""
          }
        }
      }
    },
    "accelerator": "TPU"
  },
  "nbformat": 4,
  "nbformat_minor": 5
}